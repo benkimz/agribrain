{
 "cells": [
  {
   "cell_type": "code",
   "execution_count": 1,
   "id": "9305e734-c2cc-406d-b37c-8248930b39c0",
   "metadata": {},
   "outputs": [],
   "source": [
    "import os\n",
    "import re\n",
    "import json\n",
    "import numpy as np\n",
    "import pandas as pd\n",
    "import matplotlib.pyplot as plt"
   ]
  },
  {
   "cell_type": "code",
   "execution_count": null,
   "id": "f2544d21-a462-4f5e-9235-42ee2c0ef629",
   "metadata": {},
   "outputs": [],
   "source": []
  },
  {
   "cell_type": "code",
   "execution_count": 2,
   "id": "72ce2a56-ee4e-430e-b6fe-382f1839e8e2",
   "metadata": {},
   "outputs": [
    {
     "data": {
      "text/plain": [
       "['area_codes.csv', 'flags.csv', 'item_codes.csv', 'production_data.csv']"
      ]
     },
     "execution_count": 2,
     "metadata": {},
     "output_type": "execute_result"
    }
   ],
   "source": [
    "src_dir = \"./crops_livestock_data/\"\n",
    "os.listdir(src_dir)"
   ]
  },
  {
   "cell_type": "code",
   "execution_count": 3,
   "id": "6bab826c-9dd6-4bd6-8921-1ec2d1f2a954",
   "metadata": {},
   "outputs": [],
   "source": [
    "all_data = pd.read_csv(\"{}production_data.csv\".format(src_dir))\n",
    "flags = pd.read_csv(\"{}flags.csv\".format(src_dir))"
   ]
  },
  {
   "cell_type": "code",
   "execution_count": 4,
   "id": "50f27202-7f22-417c-a0f9-c9f2f44c2b98",
   "metadata": {},
   "outputs": [
    {
     "data": {
      "text/plain": [
       "'Total rows: 3761216'"
      ]
     },
     "execution_count": 4,
     "metadata": {},
     "output_type": "execute_result"
    }
   ],
   "source": [
    "\"Total rows: {}\".format(all_data.shape[0])"
   ]
  },
  {
   "cell_type": "code",
   "execution_count": 5,
   "id": "2e121ec3-194f-44c5-9647-df2b1e48f790",
   "metadata": {},
   "outputs": [
    {
     "data": {
      "text/html": [
       "<div>\n",
       "<style scoped>\n",
       "    .dataframe tbody tr th:only-of-type {\n",
       "        vertical-align: middle;\n",
       "    }\n",
       "\n",
       "    .dataframe tbody tr th {\n",
       "        vertical-align: top;\n",
       "    }\n",
       "\n",
       "    .dataframe thead th {\n",
       "        text-align: right;\n",
       "    }\n",
       "</style>\n",
       "<table border=\"1\" class=\"dataframe\">\n",
       "  <thead>\n",
       "    <tr style=\"text-align: right;\">\n",
       "      <th></th>\n",
       "      <th>Area Code</th>\n",
       "      <th>Area Code (M49)</th>\n",
       "      <th>Area</th>\n",
       "      <th>Item Code</th>\n",
       "      <th>Item Code (CPC)</th>\n",
       "      <th>Item</th>\n",
       "      <th>Element Code</th>\n",
       "      <th>Element</th>\n",
       "      <th>Year Code</th>\n",
       "      <th>Year</th>\n",
       "      <th>Unit</th>\n",
       "      <th>Value</th>\n",
       "      <th>Flag</th>\n",
       "    </tr>\n",
       "  </thead>\n",
       "  <tbody>\n",
       "    <tr>\n",
       "      <th>0</th>\n",
       "      <td>2</td>\n",
       "      <td>'004</td>\n",
       "      <td>Afghanistan</td>\n",
       "      <td>221</td>\n",
       "      <td>'01371</td>\n",
       "      <td>Almonds, in shell</td>\n",
       "      <td>5312</td>\n",
       "      <td>Area harvested</td>\n",
       "      <td>1975</td>\n",
       "      <td>1975</td>\n",
       "      <td>ha</td>\n",
       "      <td>0.0</td>\n",
       "      <td>E</td>\n",
       "    </tr>\n",
       "    <tr>\n",
       "      <th>1</th>\n",
       "      <td>2</td>\n",
       "      <td>'004</td>\n",
       "      <td>Afghanistan</td>\n",
       "      <td>221</td>\n",
       "      <td>'01371</td>\n",
       "      <td>Almonds, in shell</td>\n",
       "      <td>5312</td>\n",
       "      <td>Area harvested</td>\n",
       "      <td>1976</td>\n",
       "      <td>1976</td>\n",
       "      <td>ha</td>\n",
       "      <td>5900.0</td>\n",
       "      <td>E</td>\n",
       "    </tr>\n",
       "  </tbody>\n",
       "</table>\n",
       "</div>"
      ],
      "text/plain": [
       "   Area Code Area Code (M49)         Area  Item Code Item Code (CPC)  \\\n",
       "0          2            '004  Afghanistan        221          '01371   \n",
       "1          2            '004  Afghanistan        221          '01371   \n",
       "\n",
       "                Item  Element Code         Element  Year Code  Year Unit  \\\n",
       "0  Almonds, in shell          5312  Area harvested       1975  1975   ha   \n",
       "1  Almonds, in shell          5312  Area harvested       1976  1976   ha   \n",
       "\n",
       "    Value Flag  \n",
       "0     0.0    E  \n",
       "1  5900.0    E  "
      ]
     },
     "execution_count": 5,
     "metadata": {},
     "output_type": "execute_result"
    }
   ],
   "source": [
    "all_data.head(2)"
   ]
  },
  {
   "cell_type": "code",
   "execution_count": 6,
   "id": "d557e664-63cf-4089-b286-760dc05762bc",
   "metadata": {},
   "outputs": [
    {
     "data": {
      "text/html": [
       "<div>\n",
       "<style scoped>\n",
       "    .dataframe tbody tr th:only-of-type {\n",
       "        vertical-align: middle;\n",
       "    }\n",
       "\n",
       "    .dataframe tbody tr th {\n",
       "        vertical-align: top;\n",
       "    }\n",
       "\n",
       "    .dataframe thead th {\n",
       "        text-align: right;\n",
       "    }\n",
       "</style>\n",
       "<table border=\"1\" class=\"dataframe\">\n",
       "  <thead>\n",
       "    <tr style=\"text-align: right;\">\n",
       "      <th></th>\n",
       "      <th>Flag</th>\n",
       "      <th>Description</th>\n",
       "    </tr>\n",
       "  </thead>\n",
       "  <tbody>\n",
       "    <tr>\n",
       "      <th>0</th>\n",
       "      <td>A</td>\n",
       "      <td>Official figure</td>\n",
       "    </tr>\n",
       "    <tr>\n",
       "      <th>1</th>\n",
       "      <td>E</td>\n",
       "      <td>Estimated value</td>\n",
       "    </tr>\n",
       "  </tbody>\n",
       "</table>\n",
       "</div>"
      ],
      "text/plain": [
       "  Flag      Description\n",
       "0    A  Official figure\n",
       "1    E  Estimated value"
      ]
     },
     "execution_count": 6,
     "metadata": {},
     "output_type": "execute_result"
    }
   ],
   "source": [
    "flags.head(2)"
   ]
  },
  {
   "cell_type": "code",
   "execution_count": 7,
   "id": "54b3d058-94c6-477a-a448-73cf86839100",
   "metadata": {},
   "outputs": [
    {
     "data": {
      "text/plain": [
       "0"
      ]
     },
     "execution_count": 7,
     "metadata": {},
     "output_type": "execute_result"
    }
   ],
   "source": [
    "all_data.duplicated().sum()"
   ]
  },
  {
   "cell_type": "code",
   "execution_count": 8,
   "id": "aef3ad96-ba38-40e2-99c3-ec08ffc1c0d3",
   "metadata": {},
   "outputs": [
    {
     "data": {
      "text/plain": [
       "Area Code          0\n",
       "Area Code (M49)    0\n",
       "Area               0\n",
       "Item Code          0\n",
       "Item Code (CPC)    0\n",
       "Item               0\n",
       "Element Code       0\n",
       "Element            0\n",
       "Year Code          0\n",
       "Year               0\n",
       "Unit               0\n",
       "Value              0\n",
       "Flag               0\n",
       "dtype: int64"
      ]
     },
     "execution_count": 8,
     "metadata": {},
     "output_type": "execute_result"
    }
   ],
   "source": [
    "all_data.isna().sum()"
   ]
  },
  {
   "cell_type": "code",
   "execution_count": 9,
   "id": "43ba84e2-e067-4d5b-878b-c05c8f1c9525",
   "metadata": {},
   "outputs": [
    {
     "data": {
      "text/plain": [
       "array(['Area harvested', 'Yield', 'Production', 'Stocks',\n",
       "       'Producing Animals/Slaughtered', 'Laying', 'Yield/Carcass Weight',\n",
       "       'Milk Animals', 'Prod Popultn'], dtype=object)"
      ]
     },
     "execution_count": 9,
     "metadata": {},
     "output_type": "execute_result"
    }
   ],
   "source": [
    "all_data[\"Element\"].unique()"
   ]
  },
  {
   "cell_type": "code",
   "execution_count": 10,
   "id": "867d5e2f-5b41-4aba-b868-f224bf71b44c",
   "metadata": {},
   "outputs": [
    {
     "data": {
      "text/plain": [
       "array(['ha', 'hg/ha', 'tonnes', 'Head', '1000 Head', '100mg/An', 'No/An',\n",
       "       '1000 No', 'hg/An', '0.1g/An', 'No', 'hg'], dtype=object)"
      ]
     },
     "execution_count": 10,
     "metadata": {},
     "output_type": "execute_result"
    }
   ],
   "source": [
    "all_data[\"Unit\"].unique()"
   ]
  },
  {
   "cell_type": "code",
   "execution_count": 11,
   "id": "fd291103-6fd1-4ac1-a208-26c9ec994b2c",
   "metadata": {},
   "outputs": [
    {
     "data": {
      "text/plain": [
       "array(['E', 'I', 'A', 'T', 'M'], dtype=object)"
      ]
     },
     "execution_count": 11,
     "metadata": {},
     "output_type": "execute_result"
    }
   ],
   "source": [
    "all_data[\"Flag\"].unique()"
   ]
  },
  {
   "cell_type": "code",
   "execution_count": 12,
   "id": "d222648d-015b-4159-9d53-2e77ebca09db",
   "metadata": {},
   "outputs": [
    {
     "data": {
      "text/html": [
       "<div>\n",
       "<style scoped>\n",
       "    .dataframe tbody tr th:only-of-type {\n",
       "        vertical-align: middle;\n",
       "    }\n",
       "\n",
       "    .dataframe tbody tr th {\n",
       "        vertical-align: top;\n",
       "    }\n",
       "\n",
       "    .dataframe thead th {\n",
       "        text-align: right;\n",
       "    }\n",
       "</style>\n",
       "<table border=\"1\" class=\"dataframe\">\n",
       "  <thead>\n",
       "    <tr style=\"text-align: right;\">\n",
       "      <th></th>\n",
       "      <th>Area Code</th>\n",
       "      <th>Area Code (M49)</th>\n",
       "      <th>Area</th>\n",
       "      <th>Item Code</th>\n",
       "      <th>Item Code (CPC)</th>\n",
       "      <th>Item</th>\n",
       "      <th>Element Code</th>\n",
       "      <th>Element</th>\n",
       "      <th>Year Code</th>\n",
       "      <th>Year</th>\n",
       "      <th>Unit</th>\n",
       "      <th>Value</th>\n",
       "      <th>Flag</th>\n",
       "    </tr>\n",
       "  </thead>\n",
       "  <tbody>\n",
       "    <tr>\n",
       "      <th>0</th>\n",
       "      <td>2</td>\n",
       "      <td>'004</td>\n",
       "      <td>Afghanistan</td>\n",
       "      <td>221</td>\n",
       "      <td>'01371</td>\n",
       "      <td>Almonds, in shell</td>\n",
       "      <td>5312</td>\n",
       "      <td>Area harvested</td>\n",
       "      <td>1975</td>\n",
       "      <td>1975</td>\n",
       "      <td>ha</td>\n",
       "      <td>0.0</td>\n",
       "      <td>E</td>\n",
       "    </tr>\n",
       "    <tr>\n",
       "      <th>1</th>\n",
       "      <td>2</td>\n",
       "      <td>'004</td>\n",
       "      <td>Afghanistan</td>\n",
       "      <td>221</td>\n",
       "      <td>'01371</td>\n",
       "      <td>Almonds, in shell</td>\n",
       "      <td>5312</td>\n",
       "      <td>Area harvested</td>\n",
       "      <td>1976</td>\n",
       "      <td>1976</td>\n",
       "      <td>ha</td>\n",
       "      <td>5900.0</td>\n",
       "      <td>E</td>\n",
       "    </tr>\n",
       "  </tbody>\n",
       "</table>\n",
       "</div>"
      ],
      "text/plain": [
       "   Area Code Area Code (M49)         Area  Item Code Item Code (CPC)  \\\n",
       "0          2            '004  Afghanistan        221          '01371   \n",
       "1          2            '004  Afghanistan        221          '01371   \n",
       "\n",
       "                Item  Element Code         Element  Year Code  Year Unit  \\\n",
       "0  Almonds, in shell          5312  Area harvested       1975  1975   ha   \n",
       "1  Almonds, in shell          5312  Area harvested       1976  1976   ha   \n",
       "\n",
       "    Value Flag  \n",
       "0     0.0    E  \n",
       "1  5900.0    E  "
      ]
     },
     "execution_count": 12,
     "metadata": {},
     "output_type": "execute_result"
    }
   ],
   "source": [
    "all_data.head(2)"
   ]
  },
  {
   "cell_type": "code",
   "execution_count": 13,
   "id": "fe2b5788-a693-4e67-8930-9e3e893c7ec9",
   "metadata": {},
   "outputs": [],
   "source": [
    "def process_strings(string):\n",
    "    string = string.strip()\n",
    "    pattern = re.compile(r'[^\\x00-\\x7F]')\n",
    "    string = pattern.sub('', string)\n",
    "    \n",
    "    return string.lower()"
   ]
  },
  {
   "cell_type": "code",
   "execution_count": 14,
   "id": "00b60870-7328-4bdc-833c-4bd0279f4917",
   "metadata": {},
   "outputs": [],
   "source": [
    "all_data[\"Area\"] = all_data[\"Area\"].apply(process_strings)\n",
    "all_data[\"Item\"] = all_data[\"Item\"].apply(process_strings)\n",
    "all_data[\"Element\"] = all_data[\"Element\"].apply(process_strings)"
   ]
  },
  {
   "cell_type": "code",
   "execution_count": 15,
   "id": "378c8846-e8d7-478b-90df-06e8e229d50d",
   "metadata": {},
   "outputs": [],
   "source": [
    "area_to_code_map = dict(zip(list(all_data[\"Area\"]), \n",
    "                            list(all_data[\"Area Code\"])))\n",
    "reverse_area_to_code_map = dict(zip(area_to_code_map.values(), area_to_code_map.keys()))"
   ]
  },
  {
   "cell_type": "code",
   "execution_count": 16,
   "id": "fd8affee-f34f-44f2-b873-8ce321b318c1",
   "metadata": {},
   "outputs": [],
   "source": [
    "item_to_code_map = dict(zip(list(all_data[\"Item\"]), \n",
    "                            list(all_data[\"Item Code\"])))\n",
    "reverse_item_to_code_map = dict(zip(item_to_code_map.values(), area_to_code_map.keys()))"
   ]
  },
  {
   "cell_type": "code",
   "execution_count": 19,
   "id": "9a51abe0-3cbb-43fb-94bf-cc7efaa428de",
   "metadata": {},
   "outputs": [],
   "source": [
    "components_dir = \"./components/\"\n",
    "data_dir = \"./clean-data/\"\n",
    "if not os.path.exists(components_dir):\n",
    "    os.makedirs(components_dir)\n",
    "if not os.path.exists(data_dir):\n",
    "    os.makedirs(data_dir)"
   ]
  },
  {
   "cell_type": "code",
   "execution_count": 20,
   "id": "e47383cf-6eb0-44ac-b1bd-76efc401bd96",
   "metadata": {},
   "outputs": [],
   "source": [
    "json.dump(area_to_code_map, open(\"{}area_to_code_map.json\".format(components_dir), \"w\"))\n",
    "json.dump(reverse_area_to_code_map, open(\"{}reverse_area_to_code_map.json\".format(components_dir), \"w\"))\n",
    "json.dump(item_to_code_map, open(\"{}item_to_code_map.json\".format(components_dir), \"w\"))\n",
    "json.dump(reverse_item_to_code_map, open(\"{}reverse_item_to_code_map.json\".format(components_dir), \"w\"))"
   ]
  },
  {
   "cell_type": "code",
   "execution_count": null,
   "id": "97323a0f-392a-46cf-9579-585349295f50",
   "metadata": {},
   "outputs": [],
   "source": []
  },
  {
   "cell_type": "code",
   "execution_count": null,
   "id": "c67fc6ea-7eb5-4d38-afc9-7e50d4c63eff",
   "metadata": {},
   "outputs": [],
   "source": []
  },
  {
   "cell_type": "code",
   "execution_count": 21,
   "id": "c7897771-9459-4101-b29b-ca96307fd454",
   "metadata": {},
   "outputs": [
    {
     "data": {
      "text/html": [
       "<div>\n",
       "<style scoped>\n",
       "    .dataframe tbody tr th:only-of-type {\n",
       "        vertical-align: middle;\n",
       "    }\n",
       "\n",
       "    .dataframe tbody tr th {\n",
       "        vertical-align: top;\n",
       "    }\n",
       "\n",
       "    .dataframe thead th {\n",
       "        text-align: right;\n",
       "    }\n",
       "</style>\n",
       "<table border=\"1\" class=\"dataframe\">\n",
       "  <thead>\n",
       "    <tr style=\"text-align: right;\">\n",
       "      <th></th>\n",
       "      <th>Area Code</th>\n",
       "      <th>Item Code</th>\n",
       "      <th>Element</th>\n",
       "      <th>Year</th>\n",
       "      <th>Unit</th>\n",
       "      <th>Value</th>\n",
       "      <th>Flag</th>\n",
       "    </tr>\n",
       "  </thead>\n",
       "  <tbody>\n",
       "    <tr>\n",
       "      <th>0</th>\n",
       "      <td>2</td>\n",
       "      <td>221</td>\n",
       "      <td>area harvested</td>\n",
       "      <td>1975</td>\n",
       "      <td>ha</td>\n",
       "      <td>0.0</td>\n",
       "      <td>E</td>\n",
       "    </tr>\n",
       "    <tr>\n",
       "      <th>1</th>\n",
       "      <td>2</td>\n",
       "      <td>221</td>\n",
       "      <td>area harvested</td>\n",
       "      <td>1976</td>\n",
       "      <td>ha</td>\n",
       "      <td>5900.0</td>\n",
       "      <td>E</td>\n",
       "    </tr>\n",
       "    <tr>\n",
       "      <th>2</th>\n",
       "      <td>2</td>\n",
       "      <td>221</td>\n",
       "      <td>area harvested</td>\n",
       "      <td>1977</td>\n",
       "      <td>ha</td>\n",
       "      <td>6000.0</td>\n",
       "      <td>E</td>\n",
       "    </tr>\n",
       "    <tr>\n",
       "      <th>3</th>\n",
       "      <td>2</td>\n",
       "      <td>221</td>\n",
       "      <td>area harvested</td>\n",
       "      <td>1978</td>\n",
       "      <td>ha</td>\n",
       "      <td>6000.0</td>\n",
       "      <td>E</td>\n",
       "    </tr>\n",
       "    <tr>\n",
       "      <th>4</th>\n",
       "      <td>2</td>\n",
       "      <td>221</td>\n",
       "      <td>area harvested</td>\n",
       "      <td>1979</td>\n",
       "      <td>ha</td>\n",
       "      <td>6000.0</td>\n",
       "      <td>E</td>\n",
       "    </tr>\n",
       "  </tbody>\n",
       "</table>\n",
       "</div>"
      ],
      "text/plain": [
       "   Area Code  Item Code         Element  Year Unit   Value Flag\n",
       "0          2        221  area harvested  1975   ha     0.0    E\n",
       "1          2        221  area harvested  1976   ha  5900.0    E\n",
       "2          2        221  area harvested  1977   ha  6000.0    E\n",
       "3          2        221  area harvested  1978   ha  6000.0    E\n",
       "4          2        221  area harvested  1979   ha  6000.0    E"
      ]
     },
     "execution_count": 21,
     "metadata": {},
     "output_type": "execute_result"
    }
   ],
   "source": [
    "columns_to_remove = [\"Area Code (M49)\", \"Area\", \"Element Code\", \"Item Code (CPC)\", \"Item\", \"Year Code\"]\n",
    "\n",
    "all_data.drop(columns=columns_to_remove, inplace=True)\n",
    "\n",
    "all_data.head(5)"
   ]
  },
  {
   "cell_type": "code",
   "execution_count": null,
   "id": "cf8336dc-2129-496c-ad1c-fb9559ae8ca8",
   "metadata": {},
   "outputs": [],
   "source": []
  },
  {
   "cell_type": "code",
   "execution_count": 22,
   "id": "e4613663-2ebd-4674-ab06-b9d27fd0a7f9",
   "metadata": {},
   "outputs": [],
   "source": [
    "all_data.to_csv(\"{}production-data.csv\".format(data_dir), index=False)"
   ]
  },
  {
   "cell_type": "code",
   "execution_count": null,
   "id": "38c2916d-af3e-46ac-bde9-ef00efcb7e6c",
   "metadata": {},
   "outputs": [],
   "source": []
  }
 ],
 "metadata": {
  "kernelspec": {
   "display_name": "Python 3 (ipykernel)",
   "language": "python",
   "name": "python3"
  },
  "language_info": {
   "codemirror_mode": {
    "name": "ipython",
    "version": 3
   },
   "file_extension": ".py",
   "mimetype": "text/x-python",
   "name": "python",
   "nbconvert_exporter": "python",
   "pygments_lexer": "ipython3",
   "version": "3.9.1"
  }
 },
 "nbformat": 4,
 "nbformat_minor": 5
}
