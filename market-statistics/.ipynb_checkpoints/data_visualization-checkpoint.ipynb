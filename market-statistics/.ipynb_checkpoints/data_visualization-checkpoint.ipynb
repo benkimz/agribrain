{
 "cells": [
  {
   "cell_type": "code",
   "execution_count": 1,
   "id": "ac65073c-9c34-4297-b4b3-50d62891e5c3",
   "metadata": {},
   "outputs": [],
   "source": [
    "import os\n",
    "import json\n",
    "import pandas as pd\n",
    "import matplotlib.pyplot as plt"
   ]
  },
  {
   "cell_type": "code",
   "execution_count": 2,
   "id": "1cc936bf-0b3b-4f31-aabb-040e3e4d4801",
   "metadata": {},
   "outputs": [],
   "source": [
    "data = pd.read_csv(\"./clean-data/production-data.csv\")"
   ]
  },
  {
   "cell_type": "code",
   "execution_count": 3,
   "id": "f03d3ad1-4c0d-491f-b128-0556edbc50fa",
   "metadata": {},
   "outputs": [
    {
     "data": {
      "text/plain": [
       "(3761216, 7)"
      ]
     },
     "execution_count": 3,
     "metadata": {},
     "output_type": "execute_result"
    }
   ],
   "source": [
    "data.shape"
   ]
  },
  {
   "cell_type": "code",
   "execution_count": 4,
   "id": "efda9fbd-205c-48c8-b6b7-3986cedb27cf",
   "metadata": {},
   "outputs": [
    {
     "data": {
      "text/html": [
       "<div>\n",
       "<style scoped>\n",
       "    .dataframe tbody tr th:only-of-type {\n",
       "        vertical-align: middle;\n",
       "    }\n",
       "\n",
       "    .dataframe tbody tr th {\n",
       "        vertical-align: top;\n",
       "    }\n",
       "\n",
       "    .dataframe thead th {\n",
       "        text-align: right;\n",
       "    }\n",
       "</style>\n",
       "<table border=\"1\" class=\"dataframe\">\n",
       "  <thead>\n",
       "    <tr style=\"text-align: right;\">\n",
       "      <th></th>\n",
       "      <th>Area Code</th>\n",
       "      <th>Item Code</th>\n",
       "      <th>Element</th>\n",
       "      <th>Year</th>\n",
       "      <th>Unit</th>\n",
       "      <th>Value</th>\n",
       "      <th>Flag</th>\n",
       "    </tr>\n",
       "  </thead>\n",
       "  <tbody>\n",
       "    <tr>\n",
       "      <th>0</th>\n",
       "      <td>2</td>\n",
       "      <td>221</td>\n",
       "      <td>area harvested</td>\n",
       "      <td>1975</td>\n",
       "      <td>ha</td>\n",
       "      <td>0.0</td>\n",
       "      <td>E</td>\n",
       "    </tr>\n",
       "    <tr>\n",
       "      <th>1</th>\n",
       "      <td>2</td>\n",
       "      <td>221</td>\n",
       "      <td>area harvested</td>\n",
       "      <td>1976</td>\n",
       "      <td>ha</td>\n",
       "      <td>5900.0</td>\n",
       "      <td>E</td>\n",
       "    </tr>\n",
       "    <tr>\n",
       "      <th>2</th>\n",
       "      <td>2</td>\n",
       "      <td>221</td>\n",
       "      <td>area harvested</td>\n",
       "      <td>1977</td>\n",
       "      <td>ha</td>\n",
       "      <td>6000.0</td>\n",
       "      <td>E</td>\n",
       "    </tr>\n",
       "    <tr>\n",
       "      <th>3</th>\n",
       "      <td>2</td>\n",
       "      <td>221</td>\n",
       "      <td>area harvested</td>\n",
       "      <td>1978</td>\n",
       "      <td>ha</td>\n",
       "      <td>6000.0</td>\n",
       "      <td>E</td>\n",
       "    </tr>\n",
       "    <tr>\n",
       "      <th>4</th>\n",
       "      <td>2</td>\n",
       "      <td>221</td>\n",
       "      <td>area harvested</td>\n",
       "      <td>1979</td>\n",
       "      <td>ha</td>\n",
       "      <td>6000.0</td>\n",
       "      <td>E</td>\n",
       "    </tr>\n",
       "  </tbody>\n",
       "</table>\n",
       "</div>"
      ],
      "text/plain": [
       "   Area Code  Item Code         Element  Year Unit   Value Flag\n",
       "0          2        221  area harvested  1975   ha     0.0    E\n",
       "1          2        221  area harvested  1976   ha  5900.0    E\n",
       "2          2        221  area harvested  1977   ha  6000.0    E\n",
       "3          2        221  area harvested  1978   ha  6000.0    E\n",
       "4          2        221  area harvested  1979   ha  6000.0    E"
      ]
     },
     "execution_count": 4,
     "metadata": {},
     "output_type": "execute_result"
    }
   ],
   "source": [
    "data.head()"
   ]
  },
  {
   "cell_type": "code",
   "execution_count": 7,
   "id": "65269c69-80d4-4012-8347-a7b2814df63d",
   "metadata": {},
   "outputs": [],
   "source": [
    "components_dir = \"./components/\"\n",
    "\n",
    "with open(\"{}area_to_code_map.json\".format(components_dir), \"r\") as fp:\n",
    "    area_to_code_map = json.load(fp)\n",
    "\n",
    "with open(\"{}item_to_code_map.json\".format(components_dir), \"r\") as fp:\n",
    "    item_to_code_map = json.load(fp)\n",
    "    \n",
    "reverse_area_to_code_map = dict(zip(area_to_code_map.values(), area_to_code_map.keys()))\n",
    "reverse_item_to_code_map = dict(zip(item_to_code_map.values(), item_to_code_map.keys()))"
   ]
  },
  {
   "cell_type": "code",
   "execution_count": null,
   "id": "2ffb5f13-7fb8-417a-9d01-0898679a3845",
   "metadata": {},
   "outputs": [],
   "source": []
  },
  {
   "cell_type": "code",
   "execution_count": 8,
   "id": "727e821e-6d84-46e7-b539-91ca96565abb",
   "metadata": {},
   "outputs": [],
   "source": [
    "kenya = data[data[\"Area Code\"] == area_to_code_map[\"kenya\"]]"
   ]
  },
  {
   "cell_type": "code",
   "execution_count": 11,
   "id": "5e77d0bd-4bfd-4c58-babf-719f8d28de56",
   "metadata": {},
   "outputs": [
    {
     "data": {
      "text/html": [
       "<div>\n",
       "<style scoped>\n",
       "    .dataframe tbody tr th:only-of-type {\n",
       "        vertical-align: middle;\n",
       "    }\n",
       "\n",
       "    .dataframe tbody tr th {\n",
       "        vertical-align: top;\n",
       "    }\n",
       "\n",
       "    .dataframe thead th {\n",
       "        text-align: right;\n",
       "    }\n",
       "</style>\n",
       "<table border=\"1\" class=\"dataframe\">\n",
       "  <thead>\n",
       "    <tr style=\"text-align: right;\">\n",
       "      <th></th>\n",
       "      <th>Area Code</th>\n",
       "      <th>Item Code</th>\n",
       "      <th>Element</th>\n",
       "      <th>Year</th>\n",
       "      <th>Unit</th>\n",
       "      <th>Value</th>\n",
       "      <th>Flag</th>\n",
       "    </tr>\n",
       "  </thead>\n",
       "  <tbody>\n",
       "    <tr>\n",
       "      <th>1387205</th>\n",
       "      <td>114</td>\n",
       "      <td>809</td>\n",
       "      <td>production</td>\n",
       "      <td>1976</td>\n",
       "      <td>tonnes</td>\n",
       "      <td>10.0</td>\n",
       "      <td>E</td>\n",
       "    </tr>\n",
       "    <tr>\n",
       "      <th>1387206</th>\n",
       "      <td>114</td>\n",
       "      <td>809</td>\n",
       "      <td>production</td>\n",
       "      <td>1977</td>\n",
       "      <td>tonnes</td>\n",
       "      <td>10.0</td>\n",
       "      <td>E</td>\n",
       "    </tr>\n",
       "    <tr>\n",
       "      <th>1387207</th>\n",
       "      <td>114</td>\n",
       "      <td>809</td>\n",
       "      <td>production</td>\n",
       "      <td>1978</td>\n",
       "      <td>tonnes</td>\n",
       "      <td>10.0</td>\n",
       "      <td>E</td>\n",
       "    </tr>\n",
       "    <tr>\n",
       "      <th>1387208</th>\n",
       "      <td>114</td>\n",
       "      <td>809</td>\n",
       "      <td>production</td>\n",
       "      <td>1979</td>\n",
       "      <td>tonnes</td>\n",
       "      <td>10.0</td>\n",
       "      <td>E</td>\n",
       "    </tr>\n",
       "    <tr>\n",
       "      <th>1387209</th>\n",
       "      <td>114</td>\n",
       "      <td>809</td>\n",
       "      <td>production</td>\n",
       "      <td>1980</td>\n",
       "      <td>tonnes</td>\n",
       "      <td>10.0</td>\n",
       "      <td>E</td>\n",
       "    </tr>\n",
       "  </tbody>\n",
       "</table>\n",
       "</div>"
      ],
      "text/plain": [
       "         Area Code  Item Code     Element  Year    Unit  Value Flag\n",
       "1387205        114        809  production  1976  tonnes   10.0    E\n",
       "1387206        114        809  production  1977  tonnes   10.0    E\n",
       "1387207        114        809  production  1978  tonnes   10.0    E\n",
       "1387208        114        809  production  1979  tonnes   10.0    E\n",
       "1387209        114        809  production  1980  tonnes   10.0    E"
      ]
     },
     "execution_count": 11,
     "metadata": {},
     "output_type": "execute_result"
    }
   ],
   "source": [
    "kenya.head()"
   ]
  },
  {
   "cell_type": "code",
   "execution_count": 12,
   "id": "45591158-195a-42e1-a6f7-504511ee52a9",
   "metadata": {},
   "outputs": [],
   "source": [
    "import plotly.express as px"
   ]
  },
  {
   "cell_type": "code",
   "execution_count": 36,
   "id": "bee30c3f-6d60-4429-a366-4d643ba15b69",
   "metadata": {},
   "outputs": [
    {
     "data": {
      "text/plain": [
       "'abaca, manila hemp, raw'"
      ]
     },
     "execution_count": 36,
     "metadata": {},
     "output_type": "execute_result"
    }
   ],
   "source": [
    "item1 = kenya[kenya[\"Item Code\"] == 809]\n",
    "tg = reverse_item_to_code_map[809]\n",
    "tg"
   ]
  },
  {
   "cell_type": "code",
   "execution_count": 37,
   "id": "1f67c8fe-7d00-4376-9c38-6b85cec9417e",
   "metadata": {},
   "outputs": [
    {
     "data": {
      "text/plain": [
       "<AxesSubplot:title={'center':'abaca, manila hemp, raw'}, xlabel='Year'>"
      ]
     },
     "execution_count": 37,
     "metadata": {},
     "output_type": "execute_result"
    },
    {
     "data": {
      "image/png": "[encoded data removed]",
      "text/plain": [
       "<Figure size 432x288 with 1 Axes>"
      ]
     },
     "metadata": {
      "needs_background": "light"
     },
     "output_type": "display_data"
    }
   ],
   "source": [
    "item1.plot(kind=\"line\", y=\"Value\", x=\"Year\", title=tg)"
   ]
  },
  {
   "cell_type": "code",
   "execution_count": 46,
   "id": "e1ca921e-7d76-4e87-b5c6-8443fb6ae94f",
   "metadata": {},
   "outputs": [
    {
     "data": {
      "text/plain": [
       "<AxesSubplot:title={'center':'abaca, manila hemp, raw'}, xlabel='Year', ylabel='Value'>"
      ]
     },
     "execution_count": 46,
     "metadata": {},
     "output_type": "execute_result"
    },
    {
     "data": {
      "image/png": "[encoded data removed]",
      "text/plain": [
       "<Figure size 432x288 with 1 Axes>"
      ]
     },
     "metadata": {
      "needs_background": "light"
     },
     "output_type": "display_data"
    }
   ],
   "source": [
    "item1[item1[\"Year\"] >= 2014].plot(kind=\"scatter\", y=\"Value\", x=\"Year\", title=tg)"
   ]
  },
  {
   "cell_type": "code",
   "execution_count": null,
   "id": "4882b360-3a70-4568-8483-e37dff3ba62d",
   "metadata": {},
   "outputs": [],
   "source": [
    "kenya[\"Item Code\"].unique()"
   ]
  },
  {
   "cell_type": "code",
   "execution_count": 54,
   "id": "d55c9128-0d2a-43d3-86cb-aa17579b03da",
   "metadata": {},
   "outputs": [],
   "source": [
    "itm1 = kenya[kenya[\"Item Code\"] == 417][\"Value\"].mean()\n",
    "itm2 = kenya[kenya[\"Item Code\"] == 83][\"Value\"].mean()\n",
    "itm3 = kenya[kenya[\"Item Code\"] == 373][\"Value\"].mean()\n",
    "itm4 = kenya[kenya[\"Item Code\"] == 156][\"Value\"].mean()\n",
    "itm5 = kenya[kenya[\"Item Code\"] == 75][\"Value\"].mean()"
   ]
  },
  {
   "cell_type": "code",
   "execution_count": 57,
   "id": "4e2dce0e-c678-4e25-8ed7-072aae1a9336",
   "metadata": {},
   "outputs": [],
   "source": [
    "piedata = {\"Item 1\": itm1, \"Item 2\": itm2, \"Item 3\": itm3, \"Item 4\": itm4, \"Item 5\": itm5}"
   ]
  },
  {
   "cell_type": "code",
   "execution_count": null,
   "id": "6112d541-2e04-4101-b481-a6b7991a123c",
   "metadata": {},
   "outputs": [],
   "source": [
    "dt = [i for i in range(10)]\n",
    "plt.pie(piedata.values(), labels=piedata.keys())\n",
    "plt.show()"
   ]
  },
  {
   "cell_type": "code",
   "execution_count": 75,
   "id": "18ba8c26-8873-4ffe-91e5-e3c65a360115",
   "metadata": {},
   "outputs": [],
   "source": [
    "items = [1019, 1016, 406, 675, 242, 1062, 1096, 407, 497]"
   ]
  },
  {
   "cell_type": "code",
   "execution_count": 92,
   "id": "df98c278-081d-443c-ab1e-0a273d376175",
   "metadata": {},
   "outputs": [],
   "source": [
    "def minimal_products_data(dframe, item_codes, code_item_map, year=None):\n",
    "    piedata = {}\n",
    "    if year:\n",
    "        dframe = dframe[dframe[\"Year\"] == year]\n",
    "    for item_code in item_codes:\n",
    "        mean_production = dframe[dframe[\"Item Code\"] == item_code][\"Value\"].mean()\n",
    "        piedata[code_item_map[item_code]] = mean_production\n",
    "    return piedata"
   ]
  },
  {
   "cell_type": "code",
   "execution_count": 102,
   "id": "a6e6b1af-53ab-48f0-ae29-6285ab12d4f5",
   "metadata": {},
   "outputs": [
    {
     "data": {
      "text/plain": [
       "{'goat fat, unrendered': 3365234.6,\n",
       " 'goats': 36021177.0,\n",
       " 'green garlic': 53778.666666666664,\n",
       " 'green tea (not fermented), black tea (fermented) and partly fermented tea': 569500.0,\n",
       " 'groundnuts, excluding shelled': 13735.4,\n",
       " 'hen eggs in shell, fresh': 478293.34,\n",
       " 'horses': 2159.0,\n",
       " 'leeks and other alliaceous vegetables': 15556.213333333333,\n",
       " 'lemons and limes': 105518.84000000001}"
      ]
     },
     "execution_count": 102,
     "metadata": {},
     "output_type": "execute_result"
    }
   ],
   "source": [
    "piedata = minimal_products_data(kenya, items, reverse_item_to_code_map, year=2020)\n",
    "piedata"
   ]
  },
  {
   "cell_type": "code",
   "execution_count": null,
   "id": "87684b81-9384-468f-a519-5d336f1c8005",
   "metadata": {},
   "outputs": [],
   "source": []
  }
 ],
 "metadata": {
  "kernelspec": {
   "display_name": "Python 3 (ipykernel)",
   "language": "python",
   "name": "python3"
  },
  "language_info": {
   "codemirror_mode": {
    "name": "ipython",
    "version": 3
   },
   "file_extension": ".py",
   "mimetype": "text/x-python",
   "name": "python",
   "nbconvert_exporter": "python",
   "pygments_lexer": "ipython3",
   "version": "3.9.1"
  }
 },
 "nbformat": 4,
 "nbformat_minor": 5
}
