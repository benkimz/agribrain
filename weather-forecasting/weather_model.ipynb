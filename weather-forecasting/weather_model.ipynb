{
 "cells": [
  {
   "cell_type": "markdown",
   "id": "a8baa98c-0451-482d-9812-f3d4d027def1",
   "metadata": {},
   "source": [
    "# Weather prediction model for regions in Kenya\n",
    "This weather model is built and trained on historical weather data for regions in Kenya. Other than just the 47 counties, quite a number of other regions are included too hence allowing for precision.\n",
    "<br>\n",
    "\n",
    "### Data Source:\n",
    "Data for this task was queried from the ```ERA5_LAND_DAILY``` dataset from **[Google Earth Engine](\"https://code.earthengine.google.com/\")**\n",
    "<br>\n",
    "The **Earth Engine** has been such a useful tool for map visualization and providing for exporting data for any region of interest. For this task, historical weather data for approximately 70 regions from year 2000 - 2020 was used."
   ]
  },
  {
   "cell_type": "code",
   "execution_count": null,
   "id": "36c8d379-a875-4945-8e8e-549c44a82c47",
   "metadata": {},
   "outputs": [],
   "source": []
  },
  {
   "cell_type": "code",
   "execution_count": 1,
   "id": "028616ce-bdc6-4d4f-b726-a6116330afa6",
   "metadata": {},
   "outputs": [],
   "source": [
    "# . \n",
    "# Importing required libraries\n",
    "\n",
    "import os\n",
    "import json\n",
    "import pickle\n",
    "import numpy as np\n",
    "import pandas as pd\n",
    "import tensorflow as tf\n",
    "\n",
    "from tensorflow.keras import layers\n",
    "\n",
    "tf.get_logger().setLevel(level=0)"
   ]
  },
  {
   "cell_type": "code",
   "execution_count": 2,
   "id": "c6883149-8613-42f9-bd42-2a94883598be",
   "metadata": {},
   "outputs": [],
   "source": [
    "from sklearn.model_selection import train_test_split\n",
    "from sklearn.preprocessing import MinMaxScaler, LabelEncoder"
   ]
  },
  {
   "cell_type": "code",
   "execution_count": null,
   "id": "99ce5d61-f450-42e1-b58d-0908436e8cf1",
   "metadata": {},
   "outputs": [],
   "source": []
  },
  {
   "cell_type": "markdown",
   "id": "67f938d5-4576-449c-8cfc-36428f5518cf",
   "metadata": {},
   "source": [
    "#### Loading the data:\n",
    "-> The data is well arranged in the order of date in an ascending manner\n",
    "\n",
    "-> The ```province```, ```polygon```, ```date``` are not so necessary for the training task.\n",
    "\n",
    "-> Loading the data into pandas and removing the unnecessary fields."
   ]
  },
  {
   "cell_type": "code",
   "execution_count": 3,
   "id": "5ba5866d-2c68-4390-9fe7-25b96b1f65fb",
   "metadata": {},
   "outputs": [],
   "source": [
    "dataset = pd.read_csv(\"./datasets/gee-weather-data.csv\")\n",
    "dataset.drop(columns=[\"province\", \"polygon\", \"date\"], inplace=True)"
   ]
  },
  {
   "cell_type": "code",
   "execution_count": 4,
   "id": "31156d97-6089-461d-85d8-6daae9bc5d55",
   "metadata": {},
   "outputs": [
    {
     "data": {
      "text/html": [
       "<div>\n",
       "<style scoped>\n",
       "    .dataframe tbody tr th:only-of-type {\n",
       "        vertical-align: middle;\n",
       "    }\n",
       "\n",
       "    .dataframe tbody tr th {\n",
       "        vertical-align: top;\n",
       "    }\n",
       "\n",
       "    .dataframe thead th {\n",
       "        text-align: right;\n",
       "    }\n",
       "</style>\n",
       "<table border=\"1\" class=\"dataframe\">\n",
       "  <thead>\n",
       "    <tr style=\"text-align: right;\">\n",
       "      <th></th>\n",
       "      <th>county</th>\n",
       "      <th>min_2m_temp (K)</th>\n",
       "      <th>max_2m_temp (K)</th>\n",
       "      <th>mean_2m_temp (K)</th>\n",
       "      <th>total_precip</th>\n",
       "      <th>mean_2m_dewpoint (K)</th>\n",
       "      <th>mean_sea_level_pressure (hPa)</th>\n",
       "      <th>mean_surface_pressure (hPa)</th>\n",
       "      <th>mean_u_wind_10m</th>\n",
       "      <th>mean_v_wind_10m</th>\n",
       "    </tr>\n",
       "  </thead>\n",
       "  <tbody>\n",
       "    <tr>\n",
       "      <th>0</th>\n",
       "      <td>Vihiga</td>\n",
       "      <td>287.819366</td>\n",
       "      <td>302.907715</td>\n",
       "      <td>294.954794</td>\n",
       "      <td>0.000583</td>\n",
       "      <td>288.950359</td>\n",
       "      <td>1009.367205</td>\n",
       "      <td>855.294223</td>\n",
       "      <td>0.176298</td>\n",
       "      <td>0.260900</td>\n",
       "    </tr>\n",
       "    <tr>\n",
       "      <th>1</th>\n",
       "      <td>Vihiga</td>\n",
       "      <td>287.940735</td>\n",
       "      <td>302.816772</td>\n",
       "      <td>295.125493</td>\n",
       "      <td>0.000088</td>\n",
       "      <td>289.081064</td>\n",
       "      <td>1008.522130</td>\n",
       "      <td>854.696495</td>\n",
       "      <td>-0.004849</td>\n",
       "      <td>0.336365</td>\n",
       "    </tr>\n",
       "  </tbody>\n",
       "</table>\n",
       "</div>"
      ],
      "text/plain": [
       "   county  min_2m_temp (K)  max_2m_temp (K)  mean_2m_temp (K)  total_precip  \\\n",
       "0  Vihiga       287.819366       302.907715        294.954794      0.000583   \n",
       "1  Vihiga       287.940735       302.816772        295.125493      0.000088   \n",
       "\n",
       "   mean_2m_dewpoint (K)  mean_sea_level_pressure (hPa)  \\\n",
       "0            288.950359                    1009.367205   \n",
       "1            289.081064                    1008.522130   \n",
       "\n",
       "   mean_surface_pressure (hPa)  mean_u_wind_10m  mean_v_wind_10m  \n",
       "0                   855.294223         0.176298         0.260900  \n",
       "1                   854.696495        -0.004849         0.336365  "
      ]
     },
     "execution_count": 4,
     "metadata": {},
     "output_type": "execute_result"
    }
   ],
   "source": [
    "#. A preview of the dataset\n",
    "dataset.head(2)"
   ]
  },
  {
   "cell_type": "code",
   "execution_count": null,
   "id": "e8ba2ebf-7021-4567-8b33-f3471a51684f",
   "metadata": {},
   "outputs": [],
   "source": []
  },
  {
   "cell_type": "markdown",
   "id": "dbe4d106-05d4-4e7a-91b0-665e210270fc",
   "metadata": {},
   "source": [
    "#### Checking available regions"
   ]
  },
  {
   "cell_type": "code",
   "execution_count": 5,
   "id": "d494fb41-42b9-49cf-9e8e-a63cb062f95a",
   "metadata": {},
   "outputs": [
    {
     "data": {
      "text/plain": [
       "array(['Vihiga', 'Narok', 'Trans Mara', 'Kiambu', 'Thika', 'Meru Central',\n",
       "       'Meru North', 'Maragua', 'Muranga', 'Embu', 'Mbeere', 'Bondo',\n",
       "       'Central Kisii', 'Gucha', 'Kisumu', 'Nyando', 'Siaya', 'Bomet',\n",
       "       'Buret', 'Meru South', 'Tharaka', 'Garissa', 'Ijara',\n",
       "       'Nandi North', 'Nandi South', 'Kirinyaga', 'Nyandarua', 'Nyeri',\n",
       "       'Kilifi', 'Kwale', 'Lamu', 'Malindi', 'Mombasa', 'Taita Taveta',\n",
       "       'Tana River', 'Isiolo', 'Kitui', 'Machakos', 'Makueni', 'Marsabit',\n",
       "       'Moyale', 'Mwingi', 'Nairobi', 'Mandera', 'Wajir', 'Homa Bay',\n",
       "       'Kuria', 'Migori', 'Nyamira', 'Rachuonyo', 'Suba', 'Baringo',\n",
       "       'Kajiado', 'Keiyo', 'Kericho', 'Koibatek', 'Laikipia', 'Marakwet',\n",
       "       'Nakuru', 'Samburu', 'Trans Nzoia', 'Turkana', 'Uasin Gishu',\n",
       "       'West Pokot', 'Bungoma', 'Busia', 'Butere Mumias', 'Kakamega',\n",
       "       'Lugari', 'Mt Elgon', 'Teso'], dtype=object)"
      ]
     },
     "execution_count": 5,
     "metadata": {},
     "output_type": "execute_result"
    }
   ],
   "source": [
    "dataset[\"county\"].unique()"
   ]
  },
  {
   "cell_type": "markdown",
   "id": "e86fe2ad-3e80-4d2d-8a5a-08bf28930bcb",
   "metadata": {},
   "source": [
    "### Preprocessing the county/ region names to a standard format\n",
    "* Stripping any whitespaces\n",
    "* Converting the names to lowercase"
   ]
  },
  {
   "cell_type": "code",
   "execution_count": 6,
   "id": "26661f80-a333-4f21-9d1f-3dc0722c9465",
   "metadata": {},
   "outputs": [],
   "source": [
    "def process_county_names(county_name: str) -> str:\n",
    "    return county_name.strip().lower()\n",
    "\n",
    "dataset[\"county\"] = dataset[\"county\"].apply(process_county_names)"
   ]
  },
  {
   "cell_type": "code",
   "execution_count": 7,
   "id": "e470a1cf-a9f5-477f-8243-21ed27c566a8",
   "metadata": {},
   "outputs": [
    {
     "data": {
      "text/html": [
       "<div>\n",
       "<style scoped>\n",
       "    .dataframe tbody tr th:only-of-type {\n",
       "        vertical-align: middle;\n",
       "    }\n",
       "\n",
       "    .dataframe tbody tr th {\n",
       "        vertical-align: top;\n",
       "    }\n",
       "\n",
       "    .dataframe thead th {\n",
       "        text-align: right;\n",
       "    }\n",
       "</style>\n",
       "<table border=\"1\" class=\"dataframe\">\n",
       "  <thead>\n",
       "    <tr style=\"text-align: right;\">\n",
       "      <th></th>\n",
       "      <th>county</th>\n",
       "      <th>min_2m_temp (K)</th>\n",
       "      <th>max_2m_temp (K)</th>\n",
       "      <th>mean_2m_temp (K)</th>\n",
       "      <th>total_precip</th>\n",
       "      <th>mean_2m_dewpoint (K)</th>\n",
       "      <th>mean_sea_level_pressure (hPa)</th>\n",
       "      <th>mean_surface_pressure (hPa)</th>\n",
       "      <th>mean_u_wind_10m</th>\n",
       "      <th>mean_v_wind_10m</th>\n",
       "    </tr>\n",
       "  </thead>\n",
       "  <tbody>\n",
       "    <tr>\n",
       "      <th>0</th>\n",
       "      <td>vihiga</td>\n",
       "      <td>287.819366</td>\n",
       "      <td>302.907715</td>\n",
       "      <td>294.954794</td>\n",
       "      <td>0.000583</td>\n",
       "      <td>288.950359</td>\n",
       "      <td>1009.367205</td>\n",
       "      <td>855.294223</td>\n",
       "      <td>0.176298</td>\n",
       "      <td>0.260900</td>\n",
       "    </tr>\n",
       "    <tr>\n",
       "      <th>1</th>\n",
       "      <td>vihiga</td>\n",
       "      <td>287.940735</td>\n",
       "      <td>302.816772</td>\n",
       "      <td>295.125493</td>\n",
       "      <td>0.000088</td>\n",
       "      <td>289.081064</td>\n",
       "      <td>1008.522130</td>\n",
       "      <td>854.696495</td>\n",
       "      <td>-0.004849</td>\n",
       "      <td>0.336365</td>\n",
       "    </tr>\n",
       "  </tbody>\n",
       "</table>\n",
       "</div>"
      ],
      "text/plain": [
       "   county  min_2m_temp (K)  max_2m_temp (K)  mean_2m_temp (K)  total_precip  \\\n",
       "0  vihiga       287.819366       302.907715        294.954794      0.000583   \n",
       "1  vihiga       287.940735       302.816772        295.125493      0.000088   \n",
       "\n",
       "   mean_2m_dewpoint (K)  mean_sea_level_pressure (hPa)  \\\n",
       "0            288.950359                    1009.367205   \n",
       "1            289.081064                    1008.522130   \n",
       "\n",
       "   mean_surface_pressure (hPa)  mean_u_wind_10m  mean_v_wind_10m  \n",
       "0                   855.294223         0.176298         0.260900  \n",
       "1                   854.696495        -0.004849         0.336365  "
      ]
     },
     "execution_count": 7,
     "metadata": {},
     "output_type": "execute_result"
    }
   ],
   "source": [
    "#. Viewing the updated dataframe\n",
    "dataset.head(2)"
   ]
  },
  {
   "cell_type": "code",
   "execution_count": null,
   "id": "5c331206-50b2-42c5-ad7b-874da65c6454",
   "metadata": {},
   "outputs": [],
   "source": []
  },
  {
   "cell_type": "markdown",
   "id": "6dbee945-028e-4ed3-9691-289f34c2f59a",
   "metadata": {},
   "source": [
    "### Getting a list of regions"
   ]
  },
  {
   "cell_type": "code",
   "execution_count": 8,
   "id": "9ea67e4d-8410-4c36-aeb9-16116b86fc8e",
   "metadata": {},
   "outputs": [],
   "source": [
    "regions = list(dataset[\"county\"].unique())"
   ]
  },
  {
   "cell_type": "code",
   "execution_count": 9,
   "id": "a8554623-0639-4c7d-85b2-a9ce59a93e07",
   "metadata": {},
   "outputs": [
    {
     "data": {
      "text/plain": [
       "'Avalable regions: 71'"
      ]
     },
     "execution_count": 9,
     "metadata": {},
     "output_type": "execute_result"
    }
   ],
   "source": [
    "\"Avalable regions: {}\".format(len(regions))"
   ]
  },
  {
   "cell_type": "code",
   "execution_count": null,
   "id": "ebb80bf2-a6a2-4623-be88-33c61a64ded3",
   "metadata": {},
   "outputs": [],
   "source": []
  },
  {
   "cell_type": "markdown",
   "id": "b13151cf-5916-447a-aef0-80feb5560021",
   "metadata": {},
   "source": [
    "#### Data normalization:\n",
    "* Region/ county name encoder: ```region_en = LabelEncoder()```\n",
    "* Temperature values normalizer: ```temp_norm = MinMaxScaler(feature_range=(0,1))```\n",
    "* Precipitation values normalizer: ```precip_norm = MinMaxScaler(feature_range=(0,1))```\n",
    "* Pressure values normalizer: ```pressure_norm = MinMaxScaler(feature_range=(0,1))```\n",
    "* Wind speed values normalizer: ```wsv_norm = MinMaxScaler(feature_range=(0,1))```"
   ]
  },
  {
   "cell_type": "code",
   "execution_count": 10,
   "id": "fc4017c4-936b-4001-b0cd-523f49744a12",
   "metadata": {},
   "outputs": [],
   "source": [
    "# .\n",
    "# region name encoder\n",
    "region_en = LabelEncoder()\n",
    "# temperature values normalizer\n",
    "temp_norm = MinMaxScaler(feature_range=(0,1))\n",
    "# precipitation values normalizer\n",
    "precip_norm = MinMaxScaler(feature_range=(0,1))\n",
    "# pressure values normalizer\n",
    "pressure_norm = MinMaxScaler(feature_range=(0,1))\n",
    "# wind speed values normalizer\n",
    "wsv_norm = MinMaxScaler(feature_range=(0,1))"
   ]
  },
  {
   "cell_type": "code",
   "execution_count": 11,
   "id": "07f06261-a6f9-40f2-b9dc-2f24b8edbf0f",
   "metadata": {},
   "outputs": [],
   "source": [
    "dataset[\"county\"] = region_en.fit_transform(dataset[\"county\"])\n",
    "\n",
    "temp_cols = [\"min_2m_temp (K)\", \"max_2m_temp (K)\", \"mean_2m_temp (K)\", \"mean_2m_dewpoint (K)\"]\n",
    "dataset[temp_cols] = temp_norm.fit_transform(dataset[temp_cols])\n",
    "\n",
    "dataset[[\"total_precip\"]] = precip_norm.fit_transform(dataset[[\"total_precip\"]])\n",
    "\n",
    "pressure_cols = [\"mean_sea_level_pressure (hPa)\", \"mean_surface_pressure (hPa)\"]\n",
    "dataset[pressure_cols] = pressure_norm.fit_transform(dataset[pressure_cols])\n",
    "\n",
    "wind_speed_cols = [\"mean_u_wind_10m\", \"mean_v_wind_10m\"]\n",
    "dataset[wind_speed_cols] = wsv_norm.fit_transform(dataset[wind_speed_cols])"
   ]
  },
  {
   "cell_type": "code",
   "execution_count": null,
   "id": "ecbd2c44-ef98-454b-954d-3f70846ea7f7",
   "metadata": {},
   "outputs": [],
   "source": []
  },
  {
   "cell_type": "code",
   "execution_count": 12,
   "id": "b65a2588-be87-471e-8c28-78b9aaaed088",
   "metadata": {},
   "outputs": [
    {
     "data": {
      "text/html": [
       "<div>\n",
       "<style scoped>\n",
       "    .dataframe tbody tr th:only-of-type {\n",
       "        vertical-align: middle;\n",
       "    }\n",
       "\n",
       "    .dataframe tbody tr th {\n",
       "        vertical-align: top;\n",
       "    }\n",
       "\n",
       "    .dataframe thead th {\n",
       "        text-align: right;\n",
       "    }\n",
       "</style>\n",
       "<table border=\"1\" class=\"dataframe\">\n",
       "  <thead>\n",
       "    <tr style=\"text-align: right;\">\n",
       "      <th></th>\n",
       "      <th>county</th>\n",
       "      <th>min_2m_temp (K)</th>\n",
       "      <th>max_2m_temp (K)</th>\n",
       "      <th>mean_2m_temp (K)</th>\n",
       "      <th>total_precip</th>\n",
       "      <th>mean_2m_dewpoint (K)</th>\n",
       "      <th>mean_sea_level_pressure (hPa)</th>\n",
       "      <th>mean_surface_pressure (hPa)</th>\n",
       "      <th>mean_u_wind_10m</th>\n",
       "      <th>mean_v_wind_10m</th>\n",
       "    </tr>\n",
       "  </thead>\n",
       "  <tbody>\n",
       "    <tr>\n",
       "      <th>0</th>\n",
       "      <td>68</td>\n",
       "      <td>0.510381</td>\n",
       "      <td>0.574655</td>\n",
       "      <td>0.494683</td>\n",
       "      <td>0.000096</td>\n",
       "      <td>0.668998</td>\n",
       "      <td>0.247375</td>\n",
       "      <td>0.327376</td>\n",
       "      <td>0.610349</td>\n",
       "      <td>0.898598</td>\n",
       "    </tr>\n",
       "    <tr>\n",
       "      <th>1</th>\n",
       "      <td>68</td>\n",
       "      <td>0.514984</td>\n",
       "      <td>0.571626</td>\n",
       "      <td>0.502485</td>\n",
       "      <td>0.000015</td>\n",
       "      <td>0.673353</td>\n",
       "      <td>0.203380</td>\n",
       "      <td>0.324865</td>\n",
       "      <td>0.591938</td>\n",
       "      <td>0.898598</td>\n",
       "    </tr>\n",
       "  </tbody>\n",
       "</table>\n",
       "</div>"
      ],
      "text/plain": [
       "   county  min_2m_temp (K)  max_2m_temp (K)  mean_2m_temp (K)  total_precip  \\\n",
       "0      68         0.510381         0.574655          0.494683      0.000096   \n",
       "1      68         0.514984         0.571626          0.502485      0.000015   \n",
       "\n",
       "   mean_2m_dewpoint (K)  mean_sea_level_pressure (hPa)  \\\n",
       "0              0.668998                       0.247375   \n",
       "1              0.673353                       0.203380   \n",
       "\n",
       "   mean_surface_pressure (hPa)  mean_u_wind_10m  mean_v_wind_10m  \n",
       "0                     0.327376         0.610349         0.898598  \n",
       "1                     0.324865         0.591938         0.898598  "
      ]
     },
     "execution_count": 12,
     "metadata": {},
     "output_type": "execute_result"
    }
   ],
   "source": [
    "dataset.head(2)"
   ]
  },
  {
   "cell_type": "markdown",
   "id": "a573980e-d97b-495f-a976-b2d216b39662",
   "metadata": {},
   "source": [
    "#### Saving the normalizer and the region name encoder for later use"
   ]
  },
  {
   "cell_type": "code",
   "execution_count": 13,
   "id": "d0afc35e-cfd3-4be9-9dff-0ed516a05ad5",
   "metadata": {},
   "outputs": [],
   "source": [
    "def save_normalizers(dest: str, **kwargs):\n",
    "    (not os.path.exists(dest)) and os.mkdir(dest)\n",
    "    en_region, en_region_path = kwargs[\"region_en\"]\n",
    "    norm_temp, norm_temp_path = kwargs[\"temp_norm\"]\n",
    "    norm_precip, norm_precip_path = kwargs[\"precip_norm\"]\n",
    "    norm_pressure, norm_pressure_path = kwargs[\"pressure_norm\"]\n",
    "    norm_wind_speed, norm_wind_speed_path = kwargs[\"wsv_norm\"]\n",
    "    pickle.dump(en_region, open(\"{}{}.sav\".format(dest, en_region_path), \"wb\"))\n",
    "    pickle.dump(norm_temp, open(\"{}{}.sav\".format(dest, norm_temp_path), \"wb\"))\n",
    "    pickle.dump(norm_precip, open(\"{}{}.sav\".format(dest, norm_precip_path), \"wb\"))\n",
    "    pickle.dump(norm_pressure, open(\"{}{}.sav\".format(dest, norm_pressure_path), \"wb\"))\n",
    "    pickle.dump(norm_wind_speed, open(\"{}{}.sav\".format(dest, norm_wind_speed_path), \"wb\"))  "
   ]
  },
  {
   "cell_type": "code",
   "execution_count": 14,
   "id": "e3c82e99-5e7d-4111-a7cd-6effc79b5e4c",
   "metadata": {},
   "outputs": [],
   "source": [
    "save_normalizers(\"./components/\", **{\n",
    "    \"region_en\": (region_en, \"region_en\"), \n",
    "    \"temp_norm\": (temp_norm, \"temp_norm\"), \n",
    "    \"precip_norm\": (precip_norm, \"precip_norm\"), \n",
    "    \"pressure_norm\": (pressure_norm, \"pressure_norm\"), \n",
    "    \"wsv_norm\": (wsv_norm, \"wsv_norm\")\n",
    "})  "
   ]
  },
  {
   "cell_type": "code",
   "execution_count": null,
   "id": "6fde960c-e42d-4a83-9485-64d8578aa712",
   "metadata": {},
   "outputs": [],
   "source": []
  },
  {
   "cell_type": "code",
   "execution_count": 15,
   "id": "447d9c7a-aa32-4df6-b633-9889e7f98a54",
   "metadata": {},
   "outputs": [
    {
     "data": {
      "text/html": [
       "<div>\n",
       "<style scoped>\n",
       "    .dataframe tbody tr th:only-of-type {\n",
       "        vertical-align: middle;\n",
       "    }\n",
       "\n",
       "    .dataframe tbody tr th {\n",
       "        vertical-align: top;\n",
       "    }\n",
       "\n",
       "    .dataframe thead th {\n",
       "        text-align: right;\n",
       "    }\n",
       "</style>\n",
       "<table border=\"1\" class=\"dataframe\">\n",
       "  <thead>\n",
       "    <tr style=\"text-align: right;\">\n",
       "      <th></th>\n",
       "      <th>county</th>\n",
       "      <th>min_2m_temp (K)</th>\n",
       "      <th>max_2m_temp (K)</th>\n",
       "      <th>mean_2m_temp (K)</th>\n",
       "      <th>total_precip</th>\n",
       "      <th>mean_2m_dewpoint (K)</th>\n",
       "      <th>mean_sea_level_pressure (hPa)</th>\n",
       "      <th>mean_surface_pressure (hPa)</th>\n",
       "      <th>mean_u_wind_10m</th>\n",
       "      <th>mean_v_wind_10m</th>\n",
       "    </tr>\n",
       "  </thead>\n",
       "  <tbody>\n",
       "    <tr>\n",
       "      <th>0</th>\n",
       "      <td>68</td>\n",
       "      <td>0.510381</td>\n",
       "      <td>0.574655</td>\n",
       "      <td>0.494683</td>\n",
       "      <td>0.000096</td>\n",
       "      <td>0.668998</td>\n",
       "      <td>0.247375</td>\n",
       "      <td>0.327376</td>\n",
       "      <td>0.610349</td>\n",
       "      <td>0.898598</td>\n",
       "    </tr>\n",
       "    <tr>\n",
       "      <th>1</th>\n",
       "      <td>68</td>\n",
       "      <td>0.514984</td>\n",
       "      <td>0.571626</td>\n",
       "      <td>0.502485</td>\n",
       "      <td>0.000015</td>\n",
       "      <td>0.673353</td>\n",
       "      <td>0.203380</td>\n",
       "      <td>0.324865</td>\n",
       "      <td>0.591938</td>\n",
       "      <td>0.898598</td>\n",
       "    </tr>\n",
       "  </tbody>\n",
       "</table>\n",
       "</div>"
      ],
      "text/plain": [
       "   county  min_2m_temp (K)  max_2m_temp (K)  mean_2m_temp (K)  total_precip  \\\n",
       "0      68         0.510381         0.574655          0.494683      0.000096   \n",
       "1      68         0.514984         0.571626          0.502485      0.000015   \n",
       "\n",
       "   mean_2m_dewpoint (K)  mean_sea_level_pressure (hPa)  \\\n",
       "0              0.668998                       0.247375   \n",
       "1              0.673353                       0.203380   \n",
       "\n",
       "   mean_surface_pressure (hPa)  mean_u_wind_10m  mean_v_wind_10m  \n",
       "0                     0.327376         0.610349         0.898598  \n",
       "1                     0.324865         0.591938         0.898598  "
      ]
     },
     "execution_count": 15,
     "metadata": {},
     "output_type": "execute_result"
    }
   ],
   "source": [
    "dataset.head(2)"
   ]
  },
  {
   "cell_type": "code",
   "execution_count": null,
   "id": "9778313e-7c73-405b-ab47-97ca344205d8",
   "metadata": {},
   "outputs": [],
   "source": []
  },
  {
   "cell_type": "code",
   "execution_count": 16,
   "id": "5373afd9-ea44-4e96-9ba9-a40193a92b52",
   "metadata": {},
   "outputs": [],
   "source": [
    "# nyeri = dataset[dataset[\"county\"] == region_en.transform(['nyeri'])[0]]\n",
    "# nyeri.head(3)"
   ]
  },
  {
   "cell_type": "code",
   "execution_count": null,
   "id": "59bd5ea5-f8b6-425f-816c-33cbb699a52e",
   "metadata": {},
   "outputs": [],
   "source": []
  },
  {
   "cell_type": "code",
   "execution_count": 17,
   "id": "46a7aef1-6bf8-4ec4-8ce8-58b3e597374f",
   "metadata": {},
   "outputs": [],
   "source": [
    "#. \n",
    "# Setting a window of 7 days\n",
    "WINDOW_SIZE = 7\n",
    "SEED = 42\n",
    "weather_cols = list(dataset.keys()) #. [1:]\n",
    "\n",
    "def train_test_sets(dframe, columns: list, window_size: int=7, seed: int=None):\n",
    "    # Shifting the data in steps on window_size\n",
    "    data = pd.concat([dframe[columns].shift(-i) for i in range(window_size + 1)], axis=1)\n",
    "    data.columns = [f\"{col}_{i}\" for i in range(window_size + 1) for col in columns]\n",
    "    data.dropna(inplace=True)\n",
    "    \n",
    "    # Width of shifted data (sdw)\n",
    "    _, sdw = data.shape\n",
    "    X_samples = data.iloc[:, -sdw: -len(columns)]\n",
    "    Y_samples = data.iloc[:, window_size * len(columns):]\n",
    "    \n",
    "    # Splitting the data into train and test sets\n",
    "    if seed:\n",
    "        X_train, X_test, Y_train, Y_test = train_test_split(X_samples, Y_samples, test_size=0.2, random_state=seed)\n",
    "    else:\n",
    "        X_train, X_test, Y_train, Y_test = train_test_split(X_samples, Y_samples, test_size=0.2, shuffle=False)\n",
    "    # reshaping to 3D \n",
    "    X_train = X_train.values.reshape((-1, window_size, len(columns)))\n",
    "    X_test = X_test.values.reshape((-1, window_size, len(columns)))\n",
    "    Y_train = Y_train.values.reshape((-1, 1, len(columns)))\n",
    "    Y_test = Y_test.values.reshape((-1, 1, len(columns)))\n",
    "    return X_train, X_test, Y_train, Y_test"
   ]
  },
  {
   "cell_type": "code",
   "execution_count": 18,
   "id": "302b9866-be0e-4edb-9f5b-4357bef9872c",
   "metadata": {},
   "outputs": [],
   "source": [
    "X_train, X_test, Y_train, Y_test = train_test_sets(dataset, weather_cols, seed=SEED)"
   ]
  },
  {
   "cell_type": "code",
   "execution_count": 19,
   "id": "7f74ceba-eb0a-4411-82e3-30bfd0573d04",
   "metadata": {},
   "outputs": [
    {
     "data": {
      "text/plain": [
       "((425767, 7, 10), (425767, 1, 10))"
      ]
     },
     "execution_count": 19,
     "metadata": {},
     "output_type": "execute_result"
    }
   ],
   "source": [
    "X_train.shape, Y_train.shape"
   ]
  },
  {
   "cell_type": "code",
   "execution_count": 52,
   "id": "f68cd062-fa0e-47d8-b19e-680805ee1e1f",
   "metadata": {},
   "outputs": [
    {
     "name": "stdout",
     "output_type": "stream",
     "text": [
      "Model: \"sequential_26\"\n",
      "_________________________________________________________________\n",
      " Layer (type)                Output Shape              Param #   \n",
      "=================================================================\n",
      " batch_normalization_8 (Batc  (None, 7, 10, 1)         4         \n",
      " hNormalization)                                                 \n",
      "                                                                 \n",
      " conv2d_113 (Conv2D)         (None, 7, 10, 64)         640       \n",
      "                                                                 \n",
      " average_pooling2d_93 (Avera  (None, 7, 10, 64)        0         \n",
      " gePooling2D)                                                    \n",
      "                                                                 \n",
      " conv2d_114 (Conv2D)         (None, 5, 8, 128)         73856     \n",
      "                                                                 \n",
      " average_pooling2d_94 (Avera  (None, 5, 8, 128)        0         \n",
      " gePooling2D)                                                    \n",
      "                                                                 \n",
      " conv2d_115 (Conv2D)         (None, 3, 6, 256)         295168    \n",
      "                                                                 \n",
      " average_pooling2d_95 (Avera  (None, 3, 6, 256)        0         \n",
      " gePooling2D)                                                    \n",
      "                                                                 \n",
      " conv2d_116 (Conv2D)         (None, 1, 4, 512)         1180160   \n",
      "                                                                 \n",
      " global_average_pooling2d_14  (None, 512)              0         \n",
      "  (GlobalAveragePooling2D)                                       \n",
      "                                                                 \n",
      " flatten_26 (Flatten)        (None, 512)               0         \n",
      "                                                                 \n",
      " dense_79 (Dense)            (None, 512)               262656    \n",
      "                                                                 \n",
      " dense_80 (Dense)            (None, 512)               262656    \n",
      "                                                                 \n",
      " dense_81 (Dense)            (None, 128)               65664     \n",
      "                                                                 \n",
      " dense_82 (Dense)            (None, 10)                1290      \n",
      "                                                                 \n",
      "=================================================================\n",
      "Total params: 2,142,094\n",
      "Trainable params: 2,142,092\n",
      "Non-trainable params: 2\n",
      "_________________________________________________________________\n"
     ]
    }
   ],
   "source": [
    "window_shape = (WINDOW_SIZE, len(weather_cols), 1)\n",
    "\n",
    "model = tf.keras.models.Sequential([\n",
    "    layers.BatchNormalization(input_shape=window_shape), \n",
    "    layers.Conv2D(64, (3, 3), 1, 'same', activation='relu'), \n",
    "    layers.AveragePooling2D(padding='same', strides=1), \n",
    "    layers.Conv2D(128, (3, 3), 1, activation=\"relu\"), \n",
    "    layers.AveragePooling2D(strides=1, padding='same'), \n",
    "    layers.Conv2D(256, (3, 3), 1, activation='relu'), \n",
    "    layers.AveragePooling2D(strides=1, padding='same'), \n",
    "    layers.Conv2D(512, (3, 3), 1, activation='relu'), \n",
    "    layers.GlobalAveragePooling2D(), \n",
    "    layers.Flatten(), \n",
    "    layers.Dense(512, activation='relu'), \n",
    "    layers.Dense(512, activation='relu'), \n",
    "    layers.Dense(128, activation='relu'), \n",
    "    layers.Dense(len(weather_cols), activation='relu')\n",
    "])\n",
    "model.summary()"
   ]
  },
  {
   "cell_type": "code",
   "execution_count": null,
   "id": "95d1e3ad-28b4-45a9-955d-1e4b0969d28d",
   "metadata": {},
   "outputs": [],
   "source": [
    "tf.keras.utils.plot_model(model, \"weather-model.png\")"
   ]
  },
  {
   "cell_type": "code",
   "execution_count": 54,
   "id": "e8b4bb31-a3ae-4faf-b62d-8c86d2aaead1",
   "metadata": {},
   "outputs": [],
   "source": [
    "model.compile(optimizer='adam', loss='mae')"
   ]
  },
  {
   "cell_type": "code",
   "execution_count": null,
   "id": "d25843f3-f1b8-4211-b1be-62da53a3b23d",
   "metadata": {},
   "outputs": [
    {
     "name": "stdout",
     "output_type": "stream",
     "text": [
      "Epoch 1/3\n",
      "5323/5323 [==============================] - 3077s 577ms/step - loss: 3.6690 - val_loss: 3.6759\n",
      "Epoch 2/3\n",
      "1847/5323 [=========>....................] - ETA: 32:16 - loss: 3.6704"
     ]
    }
   ],
   "source": [
    "history = model.fit(\n",
    "    X_train, \n",
    "    Y_train, \n",
    "    epochs=3, \n",
    "    batch_size=64, \n",
    "    validation_split=0.2\n",
    ")"
   ]
  },
  {
   "cell_type": "code",
   "execution_count": null,
   "id": "c543f2fd-89e8-489d-a6c1-bc62f57ef6a0",
   "metadata": {},
   "outputs": [],
   "source": [
    "evals = model.evaluate(X_test, Y_test)"
   ]
  },
  {
   "cell_type": "code",
   "execution_count": null,
   "id": "94609925-554f-4457-9910-0acbbac69618",
   "metadata": {},
   "outputs": [],
   "source": [
    "model.save(\"weather-model\")"
   ]
  },
  {
   "cell_type": "code",
   "execution_count": null,
   "id": "8869fc69-690a-4275-9b3d-6c6c130bf754",
   "metadata": {},
   "outputs": [],
   "source": [
    "mean_u_wind_10m\tmean_v_wind_10m\n",
    "query = {\n",
    "    \"region\": \"Nyeri\", \n",
    "    \"min_temp\": 289, \n",
    "    \"max_temp\": \n",
    "    \"mean_temp\":\n",
    "    \"precipitation\": \n",
    "    \"dewpoint\":\n",
    "    \"sea_level_pressure\": \n",
    "    \"surface_pressure\": \n",
    "    \"u_wind_component\": \n",
    "    \"v_wind_component\": \n",
    "}"
   ]
  },
  {
   "cell_type": "code",
   "execution_count": null,
   "id": "b427df90-b345-48ae-b895-1ea3d2ad70d6",
   "metadata": {},
   "outputs": [],
   "source": []
  }
 ],
 "metadata": {
  "kernelspec": {
   "display_name": "Python 3 (ipykernel)",
   "language": "python",
   "name": "python3"
  },
  "language_info": {
   "codemirror_mode": {
    "name": "ipython",
    "version": 3
   },
   "file_extension": ".py",
   "mimetype": "text/x-python",
   "name": "python",
   "nbconvert_exporter": "python",
   "pygments_lexer": "ipython3",
   "version": "3.9.1"
  }
 },
 "nbformat": 4,
 "nbformat_minor": 5
}
