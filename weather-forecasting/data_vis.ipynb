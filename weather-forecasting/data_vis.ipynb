{
 "cells": [
  {
   "cell_type": "code",
   "execution_count": 1,
   "id": "268e0c13-9fe4-48ff-adab-d6a1f8d76a0d",
   "metadata": {},
   "outputs": [],
   "source": [
    "import os\n",
    "import numpy as np\n",
    "import pandas as pd\n",
    "import matplotlib.pyplot as plt"
   ]
  },
  {
   "cell_type": "code",
   "execution_count": null,
   "id": "4803ff24-855a-4911-b17d-c4e04377d3ac",
   "metadata": {},
   "outputs": [],
   "source": []
  },
  {
   "cell_type": "code",
   "execution_count": 2,
   "id": "c7a5eefc-928f-4be7-809c-be4fb44985ab",
   "metadata": {},
   "outputs": [
    {
     "data": {
      "text/plain": [
       "\"datasets: ['era5_ke_weather_data_from_2000-01-01_to_2010-01-01.csv', 'era5_ke_weather_data_from_2010-01-01_to_2023-03-01.csv']\""
      ]
     },
     "execution_count": 2,
     "metadata": {},
     "output_type": "execute_result"
    }
   ],
   "source": [
    "\"datasets: {}\".format(os.listdir(\"./gee-weather-data/\"))"
   ]
  },
  {
   "cell_type": "markdown",
   "id": "79d86152-6310-4165-8f6f-8a46c44b30d6",
   "metadata": {},
   "source": [
    "#### Loading the weather datasets"
   ]
  },
  {
   "cell_type": "code",
   "execution_count": 3,
   "id": "6dba98ff-5ebb-4c8e-bf70-4f18e6762772",
   "metadata": {},
   "outputs": [],
   "source": [
    "era5_2000_2010 = pd.read_csv(\"./gee-weather-data/era5_ke_weather_data_from_2000-01-01_to_2010-01-01.csv\")\n",
    "era5_2010_2023 = pd.read_csv(\"./gee-weather-data/era5_ke_weather_data_from_2010-01-01_to_2023-03-01.csv\")"
   ]
  },
  {
   "cell_type": "markdown",
   "id": "76b7d798-4e65-4565-b6e3-4d549e438af7",
   "metadata": {},
   "source": [
    "#### Combining the datasets into one dataset"
   ]
  },
  {
   "cell_type": "code",
   "execution_count": 4,
   "id": "7d8a4683-5b8c-4831-87ae-2968f37f5954",
   "metadata": {},
   "outputs": [],
   "source": [
    "era5_weather = pd.concat([era5_2000_2010, era5_2010_2023])"
   ]
  },
  {
   "cell_type": "code",
   "execution_count": 5,
   "id": "aa0ce62f-21e6-4cec-bcd7-f4cb24a06bdb",
   "metadata": {},
   "outputs": [
    {
     "data": {
      "text/plain": [
       "'rows, columns: (554704, 13)'"
      ]
     },
     "execution_count": 5,
     "metadata": {},
     "output_type": "execute_result"
    }
   ],
   "source": [
    "\"rows, columns: {}\".format(era5_weather.shape)"
   ]
  },
  {
   "cell_type": "markdown",
   "id": "17e56188-68ac-4764-98c7-638bd8f44889",
   "metadata": {},
   "source": [
    "#### Let's take a look at the dataset"
   ]
  },
  {
   "cell_type": "code",
   "execution_count": 6,
   "id": "1fb028f7-2f45-4bbb-9d7c-576ddf968ed7",
   "metadata": {},
   "outputs": [
    {
     "data": {
      "text/html": [
       "<div>\n",
       "<style scoped>\n",
       "    .dataframe tbody tr th:only-of-type {\n",
       "        vertical-align: middle;\n",
       "    }\n",
       "\n",
       "    .dataframe tbody tr th {\n",
       "        vertical-align: top;\n",
       "    }\n",
       "\n",
       "    .dataframe thead th {\n",
       "        text-align: right;\n",
       "    }\n",
       "</style>\n",
       "<table border=\"1\" class=\"dataframe\">\n",
       "  <thead>\n",
       "    <tr style=\"text-align: right;\">\n",
       "      <th></th>\n",
       "      <th>county</th>\n",
       "      <th>province</th>\n",
       "      <th>polygon</th>\n",
       "      <th>date</th>\n",
       "      <th>min_2m_temp (K)</th>\n",
       "      <th>max_2m_temp (K)</th>\n",
       "      <th>mean_2m_temp (K)</th>\n",
       "      <th>total_precip</th>\n",
       "      <th>mean_2m_dewpoint (K)</th>\n",
       "      <th>mean_sea_level_pressure (hPa)</th>\n",
       "      <th>mean_surface_pressure (hPa)</th>\n",
       "      <th>mean_u_wind_10m</th>\n",
       "      <th>mean_v_wind_10m</th>\n",
       "    </tr>\n",
       "  </thead>\n",
       "  <tbody>\n",
       "    <tr>\n",
       "      <th>0</th>\n",
       "      <td>Vihiga</td>\n",
       "      <td>Western</td>\n",
       "      <td>[[34.53460950122016, -0.039904512803640914], [...</td>\n",
       "      <td>2000-01-01</td>\n",
       "      <td>287.819366</td>\n",
       "      <td>302.907715</td>\n",
       "      <td>294.954794</td>\n",
       "      <td>0.000583</td>\n",
       "      <td>288.950359</td>\n",
       "      <td>1009.367205</td>\n",
       "      <td>855.294223</td>\n",
       "      <td>0.176298</td>\n",
       "      <td>0.260900</td>\n",
       "    </tr>\n",
       "    <tr>\n",
       "      <th>1</th>\n",
       "      <td>Vihiga</td>\n",
       "      <td>Western</td>\n",
       "      <td>[[34.53460950122016, -0.039904512803640914], [...</td>\n",
       "      <td>2000-01-02</td>\n",
       "      <td>287.940735</td>\n",
       "      <td>302.816772</td>\n",
       "      <td>295.125493</td>\n",
       "      <td>0.000088</td>\n",
       "      <td>289.081064</td>\n",
       "      <td>1008.522130</td>\n",
       "      <td>854.696495</td>\n",
       "      <td>-0.004849</td>\n",
       "      <td>0.336365</td>\n",
       "    </tr>\n",
       "  </tbody>\n",
       "</table>\n",
       "</div>"
      ],
      "text/plain": [
       "   county province                                            polygon  \\\n",
       "0  Vihiga  Western  [[34.53460950122016, -0.039904512803640914], [...   \n",
       "1  Vihiga  Western  [[34.53460950122016, -0.039904512803640914], [...   \n",
       "\n",
       "         date  min_2m_temp (K)  max_2m_temp (K)  mean_2m_temp (K)  \\\n",
       "0  2000-01-01       287.819366       302.907715        294.954794   \n",
       "1  2000-01-02       287.940735       302.816772        295.125493   \n",
       "\n",
       "   total_precip  mean_2m_dewpoint (K)  mean_sea_level_pressure (hPa)  \\\n",
       "0      0.000583            288.950359                    1009.367205   \n",
       "1      0.000088            289.081064                    1008.522130   \n",
       "\n",
       "   mean_surface_pressure (hPa)  mean_u_wind_10m  mean_v_wind_10m  \n",
       "0                   855.294223         0.176298         0.260900  \n",
       "1                   854.696495        -0.004849         0.336365  "
      ]
     },
     "execution_count": 6,
     "metadata": {},
     "output_type": "execute_result"
    }
   ],
   "source": [
    "era5_weather.head(2)"
   ]
  },
  {
   "cell_type": "markdown",
   "id": "217d3400-df63-4354-aaaa-3bf95ef6f81d",
   "metadata": {},
   "source": [
    "#### Checking the data types"
   ]
  },
  {
   "cell_type": "code",
   "execution_count": 7,
   "id": "512dfb11-afe0-416d-9e92-66db069c8bc8",
   "metadata": {},
   "outputs": [
    {
     "data": {
      "text/plain": [
       "county                            object\n",
       "province                          object\n",
       "polygon                           object\n",
       "date                              object\n",
       "min_2m_temp (K)                  float64\n",
       "max_2m_temp (K)                  float64\n",
       "mean_2m_temp (K)                 float64\n",
       "total_precip                     float64\n",
       "mean_2m_dewpoint (K)             float64\n",
       "mean_sea_level_pressure (hPa)    float64\n",
       "mean_surface_pressure (hPa)      float64\n",
       "mean_u_wind_10m                  float64\n",
       "mean_v_wind_10m                  float64\n",
       "dtype: object"
      ]
     },
     "execution_count": 7,
     "metadata": {},
     "output_type": "execute_result"
    }
   ],
   "source": [
    "era5_weather.dtypes"
   ]
  },
  {
   "cell_type": "markdown",
   "id": "f182fc54-53c4-44ca-b5b1-e6f47daa5f0b",
   "metadata": {},
   "source": [
    "#### Look out for empty/ null entries"
   ]
  },
  {
   "cell_type": "code",
   "execution_count": 8,
   "id": "4ba41f84-8883-48eb-8115-af6be2895f20",
   "metadata": {},
   "outputs": [
    {
     "data": {
      "text/plain": [
       "county                              0\n",
       "province                            0\n",
       "polygon                             0\n",
       "date                                0\n",
       "min_2m_temp (K)                  7496\n",
       "max_2m_temp (K)                  7496\n",
       "mean_2m_temp (K)                    0\n",
       "total_precip                        0\n",
       "mean_2m_dewpoint (K)                0\n",
       "mean_sea_level_pressure (hPa)       0\n",
       "mean_surface_pressure (hPa)         0\n",
       "mean_u_wind_10m                     0\n",
       "mean_v_wind_10m                     0\n",
       "dtype: int64"
      ]
     },
     "execution_count": 8,
     "metadata": {},
     "output_type": "execute_result"
    }
   ],
   "source": [
    "era5_weather.isna().sum()"
   ]
  },
  {
   "cell_type": "markdown",
   "id": "bc3c26bb-8284-4cc0-8220-5b7aa6acaa75",
   "metadata": {},
   "source": [
    "#### Inspection of null entries"
   ]
  },
  {
   "cell_type": "code",
   "execution_count": 9,
   "id": "e76e56ef-9c79-41d2-8fef-9897e55aa8db",
   "metadata": {},
   "outputs": [
    {
     "data": {
      "text/html": [
       "<div>\n",
       "<style scoped>\n",
       "    .dataframe tbody tr th:only-of-type {\n",
       "        vertical-align: middle;\n",
       "    }\n",
       "\n",
       "    .dataframe tbody tr th {\n",
       "        vertical-align: top;\n",
       "    }\n",
       "\n",
       "    .dataframe thead th {\n",
       "        text-align: right;\n",
       "    }\n",
       "</style>\n",
       "<table border=\"1\" class=\"dataframe\">\n",
       "  <thead>\n",
       "    <tr style=\"text-align: right;\">\n",
       "      <th></th>\n",
       "      <th>county</th>\n",
       "      <th>province</th>\n",
       "      <th>polygon</th>\n",
       "      <th>date</th>\n",
       "      <th>min_2m_temp (K)</th>\n",
       "      <th>max_2m_temp (K)</th>\n",
       "      <th>mean_2m_temp (K)</th>\n",
       "      <th>total_precip</th>\n",
       "      <th>mean_2m_dewpoint (K)</th>\n",
       "      <th>mean_sea_level_pressure (hPa)</th>\n",
       "      <th>mean_surface_pressure (hPa)</th>\n",
       "      <th>mean_u_wind_10m</th>\n",
       "      <th>mean_v_wind_10m</th>\n",
       "    </tr>\n",
       "  </thead>\n",
       "  <tbody>\n",
       "    <tr>\n",
       "      <th>266669</th>\n",
       "      <td>Administrative unit not available</td>\n",
       "      <td>Western</td>\n",
       "      <td>[[33.910179252727914, -0.026924043557204014], ...</td>\n",
       "      <td>2000-01-01</td>\n",
       "      <td>NaN</td>\n",
       "      <td>NaN</td>\n",
       "      <td>296.423987</td>\n",
       "      <td>0.000372</td>\n",
       "      <td>292.296794</td>\n",
       "      <td>1008.758047</td>\n",
       "      <td>882.104976</td>\n",
       "      <td>-0.029183</td>\n",
       "      <td>1.002661</td>\n",
       "    </tr>\n",
       "    <tr>\n",
       "      <th>266670</th>\n",
       "      <td>Administrative unit not available</td>\n",
       "      <td>Western</td>\n",
       "      <td>[[33.910179252727914, -0.026924043557204014], ...</td>\n",
       "      <td>2000-01-02</td>\n",
       "      <td>NaN</td>\n",
       "      <td>NaN</td>\n",
       "      <td>296.630550</td>\n",
       "      <td>0.000538</td>\n",
       "      <td>292.666381</td>\n",
       "      <td>1007.950130</td>\n",
       "      <td>881.463237</td>\n",
       "      <td>0.076065</td>\n",
       "      <td>1.411537</td>\n",
       "    </tr>\n",
       "    <tr>\n",
       "      <th>266671</th>\n",
       "      <td>Administrative unit not available</td>\n",
       "      <td>Western</td>\n",
       "      <td>[[33.910179252727914, -0.026924043557204014], ...</td>\n",
       "      <td>2000-01-03</td>\n",
       "      <td>NaN</td>\n",
       "      <td>NaN</td>\n",
       "      <td>296.692491</td>\n",
       "      <td>0.001012</td>\n",
       "      <td>292.852613</td>\n",
       "      <td>1007.518013</td>\n",
       "      <td>881.028513</td>\n",
       "      <td>0.299427</td>\n",
       "      <td>1.430281</td>\n",
       "    </tr>\n",
       "    <tr>\n",
       "      <th>266672</th>\n",
       "      <td>Administrative unit not available</td>\n",
       "      <td>Western</td>\n",
       "      <td>[[33.910179252727914, -0.026924043557204014], ...</td>\n",
       "      <td>2000-01-04</td>\n",
       "      <td>NaN</td>\n",
       "      <td>NaN</td>\n",
       "      <td>296.339454</td>\n",
       "      <td>0.000489</td>\n",
       "      <td>292.263165</td>\n",
       "      <td>1007.533549</td>\n",
       "      <td>881.008260</td>\n",
       "      <td>0.717154</td>\n",
       "      <td>1.057953</td>\n",
       "    </tr>\n",
       "    <tr>\n",
       "      <th>266673</th>\n",
       "      <td>Administrative unit not available</td>\n",
       "      <td>Western</td>\n",
       "      <td>[[33.910179252727914, -0.026924043557204014], ...</td>\n",
       "      <td>2000-01-05</td>\n",
       "      <td>NaN</td>\n",
       "      <td>NaN</td>\n",
       "      <td>296.549485</td>\n",
       "      <td>0.000358</td>\n",
       "      <td>291.994489</td>\n",
       "      <td>1008.382548</td>\n",
       "      <td>881.778038</td>\n",
       "      <td>0.651067</td>\n",
       "      <td>1.573297</td>\n",
       "    </tr>\n",
       "  </tbody>\n",
       "</table>\n",
       "</div>"
      ],
      "text/plain": [
       "                                   county province  \\\n",
       "266669  Administrative unit not available  Western   \n",
       "266670  Administrative unit not available  Western   \n",
       "266671  Administrative unit not available  Western   \n",
       "266672  Administrative unit not available  Western   \n",
       "266673  Administrative unit not available  Western   \n",
       "\n",
       "                                                  polygon        date  \\\n",
       "266669  [[33.910179252727914, -0.026924043557204014], ...  2000-01-01   \n",
       "266670  [[33.910179252727914, -0.026924043557204014], ...  2000-01-02   \n",
       "266671  [[33.910179252727914, -0.026924043557204014], ...  2000-01-03   \n",
       "266672  [[33.910179252727914, -0.026924043557204014], ...  2000-01-04   \n",
       "266673  [[33.910179252727914, -0.026924043557204014], ...  2000-01-05   \n",
       "\n",
       "        min_2m_temp (K)  max_2m_temp (K)  mean_2m_temp (K)  total_precip  \\\n",
       "266669              NaN              NaN        296.423987      0.000372   \n",
       "266670              NaN              NaN        296.630550      0.000538   \n",
       "266671              NaN              NaN        296.692491      0.001012   \n",
       "266672              NaN              NaN        296.339454      0.000489   \n",
       "266673              NaN              NaN        296.549485      0.000358   \n",
       "\n",
       "        mean_2m_dewpoint (K)  mean_sea_level_pressure (hPa)  \\\n",
       "266669            292.296794                    1008.758047   \n",
       "266670            292.666381                    1007.950130   \n",
       "266671            292.852613                    1007.518013   \n",
       "266672            292.263165                    1007.533549   \n",
       "266673            291.994489                    1008.382548   \n",
       "\n",
       "        mean_surface_pressure (hPa)  mean_u_wind_10m  mean_v_wind_10m  \n",
       "266669                   882.104976        -0.029183         1.002661  \n",
       "266670                   881.463237         0.076065         1.411537  \n",
       "266671                   881.028513         0.299427         1.430281  \n",
       "266672                   881.008260         0.717154         1.057953  \n",
       "266673                   881.778038         0.651067         1.573297  "
      ]
     },
     "execution_count": 9,
     "metadata": {},
     "output_type": "execute_result"
    }
   ],
   "source": [
    "null_entries = era5_weather[era5_weather[\"min_2m_temp (K)\"].isna()]\n",
    "null_entries.head()"
   ]
  },
  {
   "cell_type": "code",
   "execution_count": 10,
   "id": "e16942d1-bd93-4260-a815-f5d99c146326",
   "metadata": {},
   "outputs": [
    {
     "data": {
      "text/plain": [
       "\"Affected regions/ counties: ['Administrative unit not available']\""
      ]
     },
     "execution_count": 10,
     "metadata": {},
     "output_type": "execute_result"
    }
   ],
   "source": [
    "\"Affected regions/ counties: {}\".format(null_entries[\"county\"].unique())"
   ]
  },
  {
   "cell_type": "markdown",
   "id": "cd4b0ffe-a5b4-4540-9a0a-f01c8be38d04",
   "metadata": {},
   "source": [
    "##### There exist null values for regions whose value for county is 'Administrative unit not available'.\n",
    "```\n",
    " -> It's just right to remove these values\n",
    "```"
   ]
  },
  {
   "cell_type": "code",
   "execution_count": 11,
   "id": "47a3609b-dd8f-4e42-af8f-40888aba4289",
   "metadata": {},
   "outputs": [],
   "source": [
    "era5_weather = era5_weather[era5_weather[\"county\"] != \"Administrative unit not available\"].reset_index(drop=True)"
   ]
  },
  {
   "cell_type": "code",
   "execution_count": null,
   "id": "c2ee88f1-3e87-4aa5-bb6d-683fe5abeb21",
   "metadata": {},
   "outputs": [],
   "source": []
  },
  {
   "cell_type": "markdown",
   "id": "5459a5f5-e04e-4401-8fd0-10e03e8cb80b",
   "metadata": {},
   "source": [
    "#### Data visualization:\n",
    "* A line plot\n",
    "* A histogram"
   ]
  },
  {
   "cell_type": "code",
   "execution_count": 12,
   "id": "6af067db-317f-427c-b709-602985d96642",
   "metadata": {},
   "outputs": [
    {
     "data": {
      "text/plain": [
       "<AxesSubplot:xlabel='date'>"
      ]
     },
     "execution_count": 12,
     "metadata": {},
     "output_type": "execute_result"
    },
    {
     "data": {
      "image/png": "[encoded data removed]",
      "text/plain": [
       "<Figure size 1440x720 with 1 Axes>"
      ]
     },
     "metadata": {
      "needs_background": "light"
     },
     "output_type": "display_data"
    }
   ],
   "source": [
    "# .\n",
    "# A dirty plot:\n",
    "era5_weather.plot(x=\"date\", y=\"mean_2m_temp (K)\", kind=\"line\", figsize=[20, 10])"
   ]
  },
  {
   "cell_type": "code",
   "execution_count": 13,
   "id": "e759dfb7-3888-46b5-8397-590202b85094",
   "metadata": {},
   "outputs": [
    {
     "data": {
      "text/plain": [
       "<AxesSubplot:ylabel='Frequency'>"
      ]
     },
     "execution_count": 13,
     "metadata": {},
     "output_type": "execute_result"
    },
    {
     "data": {
      "image/png": "[encoded data removed]",
      "text/plain": [
       "<Figure size 1440x720 with 1 Axes>"
      ]
     },
     "metadata": {
      "needs_background": "light"
     },
     "output_type": "display_data"
    }
   ],
   "source": [
    "# .\n",
    "# A histogram chart of the last weather records:\n",
    "era5_weather.plot(x=\"date\", y=\"mean_2m_temp (K)\", kind=\"hist\", figsize=[20, 10])"
   ]
  },
  {
   "cell_type": "code",
   "execution_count": null,
   "id": "2c2cc8f6-5d38-43c0-933c-2985b17bea53",
   "metadata": {},
   "outputs": [],
   "source": []
  },
  {
   "cell_type": "markdown",
   "id": "75d90e98-5523-4a63-9a51-f8b546b9892b",
   "metadata": {},
   "source": [
    "#### Saving a clean copy of the dataset in (.csv) format"
   ]
  },
  {
   "cell_type": "code",
   "execution_count": 14,
   "id": "ae6def65-e4b3-4e1b-a507-8284952b2cc3",
   "metadata": {},
   "outputs": [],
   "source": [
    "era5_weather.to_csv(\"./datasets/gee-weather-data.csv\", index=False)"
   ]
  },
  {
   "cell_type": "code",
   "execution_count": null,
   "id": "eef271d1-f9e4-4f95-8fd6-febbd5cfcbc4",
   "metadata": {},
   "outputs": [],
   "source": []
  }
 ],
 "metadata": {
  "kernelspec": {
   "display_name": "Python 3 (ipykernel)",
   "language": "python",
   "name": "python3"
  },
  "language_info": {
   "codemirror_mode": {
    "name": "ipython",
    "version": 3
   },
   "file_extension": ".py",
   "mimetype": "text/x-python",
   "name": "python",
   "nbconvert_exporter": "python",
   "pygments_lexer": "ipython3",
   "version": "3.9.1"
  }
 },
 "nbformat": 4,
 "nbformat_minor": 5
}
