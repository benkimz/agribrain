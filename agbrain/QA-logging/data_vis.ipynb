{
 "cells": [
  {
   "cell_type": "code",
   "execution_count": 2,
   "id": "a71eca13-265e-4ab8-8c0d-cf972360042b",
   "metadata": {},
   "outputs": [],
   "source": [
    "import pandas as pd"
   ]
  },
  {
   "cell_type": "code",
   "execution_count": 10,
   "id": "b45c0020-dc62-46d6-b6ed-08d2f05a635f",
   "metadata": {},
   "outputs": [],
   "source": [
    "df = pd.read_csv(\"questions.csv\")"
   ]
  },
  {
   "cell_type": "code",
   "execution_count": 11,
   "id": "4f37110c-fc1e-449d-b84e-9c63c6970cef",
   "metadata": {},
   "outputs": [
    {
     "data": {
      "text/plain": [
       "(390, 7)"
      ]
     },
     "execution_count": 11,
     "metadata": {},
     "output_type": "execute_result"
    }
   ],
   "source": [
    "df.shape"
   ]
  },
  {
   "cell_type": "code",
   "execution_count": 12,
   "id": "4abbf124-861b-4a8b-b90f-ab6cff9155ad",
   "metadata": {},
   "outputs": [
    {
     "data": {
      "text/html": [
       "<div>\n",
       "<style scoped>\n",
       "    .dataframe tbody tr th:only-of-type {\n",
       "        vertical-align: middle;\n",
       "    }\n",
       "\n",
       "    .dataframe tbody tr th {\n",
       "        vertical-align: top;\n",
       "    }\n",
       "\n",
       "    .dataframe thead th {\n",
       "        text-align: right;\n",
       "    }\n",
       "</style>\n",
       "<table border=\"1\" class=\"dataframe\">\n",
       "  <thead>\n",
       "    <tr style=\"text-align: right;\">\n",
       "      <th></th>\n",
       "      <th>question</th>\n",
       "      <th>context</th>\n",
       "      <th>answer</th>\n",
       "      <th>keywords</th>\n",
       "      <th>category</th>\n",
       "      <th>intent</th>\n",
       "      <th>procedure</th>\n",
       "    </tr>\n",
       "  </thead>\n",
       "  <tbody>\n",
       "    <tr>\n",
       "      <th>0</th>\n",
       "      <td>WHAT ARE THE COMMON MISCONCEPTIONS THAT YOU SE...</td>\n",
       "      <td>consumer preferences for sustainable agriculture</td>\n",
       "      <td>People truly believe that farmers will do anyt...</td>\n",
       "      <td>MISCONCEPTIONS, CONSUMERS, PRODUCE</td>\n",
       "      <td>consumer questions</td>\n",
       "      <td>curious to know more</td>\n",
       "      <td>False</td>\n",
       "    </tr>\n",
       "    <tr>\n",
       "      <th>1</th>\n",
       "      <td>WHAT DOES “ORGANIC PRODUCE” REALLY MEAN?</td>\n",
       "      <td>organic food market trends</td>\n",
       "      <td>Organic farmers, ranchers, and food processors...</td>\n",
       "      <td>organic, produce</td>\n",
       "      <td>crop cultivation</td>\n",
       "      <td>curious to know more</td>\n",
       "      <td>False</td>\n",
       "    </tr>\n",
       "    <tr>\n",
       "      <th>2</th>\n",
       "      <td>WHAT DOES IT TAKE TO GROW ORGANICALLY?</td>\n",
       "      <td>organic food market trends</td>\n",
       "      <td>Biological pesticides and predator-type pests ...</td>\n",
       "      <td>organically</td>\n",
       "      <td>crop cultivation</td>\n",
       "      <td>curious to know more</td>\n",
       "      <td>False</td>\n",
       "    </tr>\n",
       "    <tr>\n",
       "      <th>3</th>\n",
       "      <td>WHAT PRECAUTIONS SHOULD I TAKE, IF ANY, AGAINS...</td>\n",
       "      <td>consumer preferences for sustainable agriculture</td>\n",
       "      <td>Whether it is grown organically or conventiona...</td>\n",
       "      <td>precautions, pesticides, herbicides</td>\n",
       "      <td>consumer questions</td>\n",
       "      <td>curious to know more</td>\n",
       "      <td>False</td>\n",
       "    </tr>\n",
       "    <tr>\n",
       "      <th>4</th>\n",
       "      <td>LOTS OF CONSUMERS STILL SEE THE FARMER AS THE ...</td>\n",
       "      <td>consumer preferences for sustainable agriculture</td>\n",
       "      <td>We are now seeing numerous millennial-age fami...</td>\n",
       "      <td>technologies, consumers</td>\n",
       "      <td>crop cultivation</td>\n",
       "      <td>curious to know more</td>\n",
       "      <td>False</td>\n",
       "    </tr>\n",
       "  </tbody>\n",
       "</table>\n",
       "</div>"
      ],
      "text/plain": [
       "                                            question  \\\n",
       "0  WHAT ARE THE COMMON MISCONCEPTIONS THAT YOU SE...   \n",
       "1           WHAT DOES “ORGANIC PRODUCE” REALLY MEAN?   \n",
       "2             WHAT DOES IT TAKE TO GROW ORGANICALLY?   \n",
       "3  WHAT PRECAUTIONS SHOULD I TAKE, IF ANY, AGAINS...   \n",
       "4  LOTS OF CONSUMERS STILL SEE THE FARMER AS THE ...   \n",
       "\n",
       "                                            context  \\\n",
       "0  consumer preferences for sustainable agriculture   \n",
       "1                        organic food market trends   \n",
       "2                        organic food market trends   \n",
       "3  consumer preferences for sustainable agriculture   \n",
       "4  consumer preferences for sustainable agriculture   \n",
       "\n",
       "                                              answer  \\\n",
       "0  People truly believe that farmers will do anyt...   \n",
       "1  Organic farmers, ranchers, and food processors...   \n",
       "2  Biological pesticides and predator-type pests ...   \n",
       "3  Whether it is grown organically or conventiona...   \n",
       "4  We are now seeing numerous millennial-age fami...   \n",
       "\n",
       "                              keywords            category  \\\n",
       "0   MISCONCEPTIONS, CONSUMERS, PRODUCE  consumer questions   \n",
       "1                     organic, produce    crop cultivation   \n",
       "2                          organically    crop cultivation   \n",
       "3  precautions, pesticides, herbicides  consumer questions   \n",
       "4              technologies, consumers    crop cultivation   \n",
       "\n",
       "                 intent procedure  \n",
       "0  curious to know more     False  \n",
       "1  curious to know more     False  \n",
       "2  curious to know more     False  \n",
       "3  curious to know more     False  \n",
       "4  curious to know more     False  "
      ]
     },
     "execution_count": 12,
     "metadata": {},
     "output_type": "execute_result"
    }
   ],
   "source": [
    "df.head()"
   ]
  },
  {
   "cell_type": "code",
   "execution_count": 17,
   "id": "93e1dc93-9ef2-42d1-b6db-5ad4d200d896",
   "metadata": {},
   "outputs": [
    {
     "data": {
      "text/plain": [
       "array(['consumer preferences for sustainable agriculture',\n",
       "       'organic food market trends',\n",
       "       'new technologies for improving market access',\n",
       "       'sustainability trends in agriculture',\n",
       "       'global trends in agricultural trade', 'wheat',\n",
       "       'cattle (beef and dairy)', 'crop damage prevention strategies',\n",
       "       'fish (farmed)', 'sheep', 'horse', 'pig', 'tea', nan,\n",
       "       'pests control & herbicides', 'agricultural technologies',\n",
       "       'manure, fertilizers and soil nutrients', 'soil conditions',\n",
       "       'entrepreneurial', 'animal husbandry', 'african clawed frog',\n",
       "       'theoretical framework', 'agribusinesses', 'soil moisture levels',\n",
       "       'trade and economy', 'avocados', 'drinks & beverages', 'beans',\n",
       "       'conservation agriculture', 'maize',\n",
       "       'weather risks for harvesting', 'agroecology', 'animal diseases',\n",
       "       'agencies and organizations', 'meat and slaughtering',\n",
       "       'eggs and chicken products', 'oranges', 'sheep and goats', 'sisal',\n",
       "       'local farmers markets', 'climate trends in my area',\n",
       "       'agricultural census', 'local weather forecast', 'history',\n",
       "       'papayas'], dtype=object)"
      ]
     },
     "execution_count": 17,
     "metadata": {},
     "output_type": "execute_result"
    }
   ],
   "source": [
    "c = df[\"context\"].unique()\n",
    "c"
   ]
  },
  {
   "cell_type": "code",
   "execution_count": 18,
   "id": "5a1b1b75-1820-41a6-a58e-df72f47cbe00",
   "metadata": {},
   "outputs": [
    {
     "data": {
      "text/plain": [
       "(45,)"
      ]
     },
     "execution_count": 18,
     "metadata": {},
     "output_type": "execute_result"
    }
   ],
   "source": [
    "c.shape"
   ]
  },
  {
   "cell_type": "code",
   "execution_count": 19,
   "id": "317a30de-8b18-40b9-8f6b-3818014f2196",
   "metadata": {},
   "outputs": [
    {
     "data": {
      "text/plain": [
       "(10,)"
      ]
     },
     "execution_count": 19,
     "metadata": {},
     "output_type": "execute_result"
    }
   ],
   "source": [
    "df[\"intent\"].unique().shape"
   ]
  },
  {
   "cell_type": "code",
   "execution_count": 21,
   "id": "eaa4f713-7782-4d43-851c-293aabf5d56b",
   "metadata": {},
   "outputs": [
    {
     "data": {
      "text/html": [
       "<div>\n",
       "<style scoped>\n",
       "    .dataframe tbody tr th:only-of-type {\n",
       "        vertical-align: middle;\n",
       "    }\n",
       "\n",
       "    .dataframe tbody tr th {\n",
       "        vertical-align: top;\n",
       "    }\n",
       "\n",
       "    .dataframe thead th {\n",
       "        text-align: right;\n",
       "    }\n",
       "</style>\n",
       "<table border=\"1\" class=\"dataframe\">\n",
       "  <thead>\n",
       "    <tr style=\"text-align: right;\">\n",
       "      <th></th>\n",
       "      <th>question</th>\n",
       "      <th>context</th>\n",
       "      <th>answer</th>\n",
       "      <th>keywords</th>\n",
       "      <th>category</th>\n",
       "      <th>intent</th>\n",
       "      <th>procedure</th>\n",
       "    </tr>\n",
       "  </thead>\n",
       "  <tbody>\n",
       "    <tr>\n",
       "      <th>385</th>\n",
       "      <td>Please are there recent materials on agrochemi...</td>\n",
       "      <td>manure, fertilizers and soil nutrients</td>\n",
       "      <td>NaN</td>\n",
       "      <td>agrochemicals,</td>\n",
       "      <td>crop cultivation</td>\n",
       "      <td>clear a doubt</td>\n",
       "      <td>False</td>\n",
       "    </tr>\n",
       "    <tr>\n",
       "      <th>386</th>\n",
       "      <td>If organic fertilizers have low pH than what w...</td>\n",
       "      <td>manure, fertilizers and soil nutrients</td>\n",
       "      <td>NaN</td>\n",
       "      <td>agrochemicals,</td>\n",
       "      <td>crop cultivation</td>\n",
       "      <td>clear a doubt</td>\n",
       "      <td>False</td>\n",
       "    </tr>\n",
       "    <tr>\n",
       "      <th>387</th>\n",
       "      <td>How far can we depend on simulation models in ...</td>\n",
       "      <td>agricultural technologies</td>\n",
       "      <td>Many of us have used or read about simulation ...</td>\n",
       "      <td>simulation models , predicting climate</td>\n",
       "      <td>crop cultivation</td>\n",
       "      <td>know how</td>\n",
       "      <td>False</td>\n",
       "    </tr>\n",
       "    <tr>\n",
       "      <th>388</th>\n",
       "      <td>What are the latest way to explore allelopathi...</td>\n",
       "      <td>agricultural technologies</td>\n",
       "      <td>Weed germination can be tested, and on the oth...</td>\n",
       "      <td>allelopathic plant extract</td>\n",
       "      <td>crop cultivation</td>\n",
       "      <td>know what</td>\n",
       "      <td>True</td>\n",
       "    </tr>\n",
       "    <tr>\n",
       "      <th>389</th>\n",
       "      <td>What factors affect crop production under glob...</td>\n",
       "      <td>climate trends in my area</td>\n",
       "      <td>Crop production affects with increasing temper...</td>\n",
       "      <td>allelopathic plant extract</td>\n",
       "      <td>crop cultivation</td>\n",
       "      <td>know what</td>\n",
       "      <td>False</td>\n",
       "    </tr>\n",
       "  </tbody>\n",
       "</table>\n",
       "</div>"
      ],
      "text/plain": [
       "                                              question  \\\n",
       "385  Please are there recent materials on agrochemi...   \n",
       "386  If organic fertilizers have low pH than what w...   \n",
       "387  How far can we depend on simulation models in ...   \n",
       "388  What are the latest way to explore allelopathi...   \n",
       "389  What factors affect crop production under glob...   \n",
       "\n",
       "                                    context  \\\n",
       "385  manure, fertilizers and soil nutrients   \n",
       "386  manure, fertilizers and soil nutrients   \n",
       "387               agricultural technologies   \n",
       "388               agricultural technologies   \n",
       "389               climate trends in my area   \n",
       "\n",
       "                                                answer  \\\n",
       "385                                                NaN   \n",
       "386                                                NaN   \n",
       "387  Many of us have used or read about simulation ...   \n",
       "388  Weed germination can be tested, and on the oth...   \n",
       "389  Crop production affects with increasing temper...   \n",
       "\n",
       "                                   keywords          category         intent  \\\n",
       "385                         agrochemicals,   crop cultivation  clear a doubt   \n",
       "386                         agrochemicals,   crop cultivation  clear a doubt   \n",
       "387  simulation models , predicting climate  crop cultivation       know how   \n",
       "388              allelopathic plant extract  crop cultivation      know what   \n",
       "389              allelopathic plant extract  crop cultivation      know what   \n",
       "\n",
       "    procedure  \n",
       "385     False  \n",
       "386     False  \n",
       "387     False  \n",
       "388      True  \n",
       "389     False  "
      ]
     },
     "execution_count": 21,
     "metadata": {},
     "output_type": "execute_result"
    }
   ],
   "source": [
    "df[385:]"
   ]
  },
  {
   "cell_type": "code",
   "execution_count": null,
   "id": "2179e7e6-fa08-4119-acc9-8131b0dfa52b",
   "metadata": {},
   "outputs": [],
   "source": []
  }
 ],
 "metadata": {
  "kernelspec": {
   "display_name": "Python 3 (ipykernel)",
   "language": "python",
   "name": "python3"
  },
  "language_info": {
   "codemirror_mode": {
    "name": "ipython",
    "version": 3
   },
   "file_extension": ".py",
   "mimetype": "text/x-python",
   "name": "python",
   "nbconvert_exporter": "python",
   "pygments_lexer": "ipython3",
   "version": "3.9.1"
  }
 },
 "nbformat": 4,
 "nbformat_minor": 5
}
