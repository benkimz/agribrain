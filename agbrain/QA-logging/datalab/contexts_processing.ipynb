{
 "cells": [
  {
   "cell_type": "code",
   "execution_count": 6,
   "id": "7de20669-64fb-43d6-b957-ce37fca00524",
   "metadata": {},
   "outputs": [],
   "source": [
    "import os\n",
    "import re\n",
    "import json\n",
    "import unicodedata"
   ]
  },
  {
   "cell_type": "code",
   "execution_count": null,
   "id": "91f8eafc-2df4-4024-8272-1b205df622cd",
   "metadata": {},
   "outputs": [],
   "source": []
  },
  {
   "cell_type": "code",
   "execution_count": 21,
   "id": "1fc02eb4-4c4c-44e8-babb-ff795c5316d1",
   "metadata": {},
   "outputs": [],
   "source": [
    "contexts_file = \"dirty_contexts.log\"\n",
    "with open(contexts_file, mode=\"r\", encoding=\"utf-8\") as fp:\n",
    "    context_tags = fp.read().split(\",\")"
   ]
  },
  {
   "cell_type": "code",
   "execution_count": 22,
   "id": "e2bf3bf4-6620-482d-83b3-f49d5d71923f",
   "metadata": {},
   "outputs": [
    {
     "data": {
      "text/plain": [
       "'initital context classes: 414'"
      ]
     },
     "execution_count": 22,
     "metadata": {},
     "output_type": "execute_result"
    }
   ],
   "source": [
    "\"initital context classes: {}\".format(len(context_tags))"
   ]
  },
  {
   "cell_type": "code",
   "execution_count": 23,
   "id": "3a3da879-b05a-4a7a-b836-a7b499227605",
   "metadata": {},
   "outputs": [
    {
     "data": {
      "text/plain": [
       "'context classes are: 368'"
      ]
     },
     "execution_count": 23,
     "metadata": {},
     "output_type": "execute_result"
    }
   ],
   "source": [
    "def handle_strings(string: str) -> str:\n",
    "    string = re.sub(r'[\\\\/*^~@#<>|\\t\\n]', \"\", string)\n",
    "    string = string.lower()\n",
    "    return string.strip()\n",
    "\n",
    "context_tags = sorted(set([handle_strings(string) for string in context_tags]))\n",
    "\"context classes are: {}\".format(len(context_tags))"
   ]
  },
  {
   "cell_type": "code",
   "execution_count": 24,
   "id": "50605c88-c744-4331-bf05-580b11e56505",
   "metadata": {},
   "outputs": [],
   "source": [
    "with open(\"../contexts.json\", mode=\"w\", encoding=\"utf-8\") as fp:\n",
    "    json.dump(context_tags, fp)"
   ]
  },
  {
   "cell_type": "code",
   "execution_count": null,
   "id": "067d2a93-f5a2-4c9f-8f94-934fe716b229",
   "metadata": {},
   "outputs": [],
   "source": []
  }
 ],
 "metadata": {
  "kernelspec": {
   "display_name": "Python 3 (ipykernel)",
   "language": "python",
   "name": "python3"
  },
  "language_info": {
   "codemirror_mode": {
    "name": "ipython",
    "version": 3
   },
   "file_extension": ".py",
   "mimetype": "text/x-python",
   "name": "python",
   "nbconvert_exporter": "python",
   "pygments_lexer": "ipython3",
   "version": "3.9.1"
  }
 },
 "nbformat": 4,
 "nbformat_minor": 5
}
