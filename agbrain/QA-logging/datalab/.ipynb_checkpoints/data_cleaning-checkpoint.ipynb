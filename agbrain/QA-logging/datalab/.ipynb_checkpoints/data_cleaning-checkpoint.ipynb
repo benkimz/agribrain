{
 "cells": [
  {
   "cell_type": "code",
   "execution_count": 1,
   "id": "0aada727-e3c2-48f9-ae23-d93cc9acdc49",
   "metadata": {},
   "outputs": [],
   "source": [
    "import numpy as np\n",
    "import matplotlib.pyplot as plt\n",
    "import pandas as pd"
   ]
  },
  {
   "cell_type": "code",
   "execution_count": 74,
   "id": "38caa8b3-ed28-4987-a52d-a19591d509a4",
   "metadata": {},
   "outputs": [],
   "source": [
    "import os\n",
    "import re\n",
    "import unicodedata"
   ]
  },
  {
   "cell_type": "code",
   "execution_count": 116,
   "id": "c69965ef-c0fa-4348-8e87-b559f9dfb5cd",
   "metadata": {},
   "outputs": [],
   "source": [
    "path = \"../../datahub/bbc-news-summary/BBC News Summary/\""
   ]
  },
  {
   "cell_type": "code",
   "execution_count": 117,
   "id": "7e804dec-ca19-4f9f-8fd0-80db2657868a",
   "metadata": {},
   "outputs": [],
   "source": [
    "content_dir = \"{}News Articles/\".format(path)\n",
    "summary_dir = \"{}Summaries/\".format(path)"
   ]
  },
  {
   "cell_type": "code",
   "execution_count": 118,
   "id": "c284dcdb-175c-4ec6-89a6-24313e95e705",
   "metadata": {},
   "outputs": [
    {
     "data": {
      "text/plain": [
       "(['business', 'entertainment', 'politics', 'sport', 'tech'],\n",
       " ['business', 'entertainment', 'politics', 'sport', 'tech'])"
      ]
     },
     "execution_count": 118,
     "metadata": {},
     "output_type": "execute_result"
    }
   ],
   "source": [
    "os.listdir(content_dir), os.listdir(summary_dir)"
   ]
  },
  {
   "cell_type": "code",
   "execution_count": 128,
   "id": "d0669091-2e04-4acc-8f97-2d48786351ae",
   "metadata": {},
   "outputs": [],
   "source": [
    "data = {\n",
    "    \"category\": [], \n",
    "    \"article\": [], \n",
    "    \"summary\": []\n",
    "}\n",
    "\n",
    "items = 0\n",
    "\n",
    "for category in os.listdir(content_dir):\n",
    "    # loop throught items of this category\n",
    "    category_content_dir = \"{}{}/\".format(content_dir, category)\n",
    "    category_summary_dir = \"{}{}/\".format(summary_dir, category)\n",
    "    assert len(os.listdir(category_content_dir)) == len(os.listdir(category_summary_dir))\n",
    "    for file in os.listdir(category_content_dir):\n",
    "        if os.path.splitext(file)[-1] == \".txt\":\n",
    "            items += 1\n",
    "            if os.path.exists(\"{}{}\".format(category_summary_dir, file)):\n",
    "                with open(\"{}{}\".format(category_content_dir, file), mode=\"r\") as content:\n",
    "                    data[\"article\"].append(content.read())\n",
    "                    content.close()\n",
    "                with open(\"{}{}\".format(category_summary_dir, file), mode=\"r\") as summary:\n",
    "                    data[\"summary\"].append(summary.read())\n",
    "                    summary.close()    \n",
    "                data[\"category\"].append(category.strip())\n",
    "            "
   ]
  },
  {
   "cell_type": "code",
   "execution_count": 129,
   "id": "28b58d89-bae5-4bb9-8183-8019b3fa3411",
   "metadata": {},
   "outputs": [
    {
     "data": {
      "text/plain": [
       "2225"
      ]
     },
     "execution_count": 129,
     "metadata": {},
     "output_type": "execute_result"
    }
   ],
   "source": [
    "items"
   ]
  },
  {
   "cell_type": "code",
   "execution_count": 130,
   "id": "80323c08-9594-4b86-aec5-b429c70109d5",
   "metadata": {},
   "outputs": [],
   "source": [
    "dframe = pd.DataFrame(data)"
   ]
  },
  {
   "cell_type": "code",
   "execution_count": 131,
   "id": "a0508cc6-5008-42c8-be0f-a17c1b64b997",
   "metadata": {},
   "outputs": [
    {
     "data": {
      "text/html": [
       "<div>\n",
       "<style scoped>\n",
       "    .dataframe tbody tr th:only-of-type {\n",
       "        vertical-align: middle;\n",
       "    }\n",
       "\n",
       "    .dataframe tbody tr th {\n",
       "        vertical-align: top;\n",
       "    }\n",
       "\n",
       "    .dataframe thead th {\n",
       "        text-align: right;\n",
       "    }\n",
       "</style>\n",
       "<table border=\"1\" class=\"dataframe\">\n",
       "  <thead>\n",
       "    <tr style=\"text-align: right;\">\n",
       "      <th></th>\n",
       "      <th>category</th>\n",
       "      <th>article</th>\n",
       "      <th>summary</th>\n",
       "    </tr>\n",
       "  </thead>\n",
       "  <tbody>\n",
       "    <tr>\n",
       "      <th>0</th>\n",
       "      <td>business</td>\n",
       "      <td>Ad sales boost Time Warner profit\\n\\nQuarterly...</td>\n",
       "      <td>TimeWarner said fourth quarter sales rose 2% t...</td>\n",
       "    </tr>\n",
       "    <tr>\n",
       "      <th>1</th>\n",
       "      <td>business</td>\n",
       "      <td>Dollar gains on Greenspan speech\\n\\nThe dollar...</td>\n",
       "      <td>The dollar has hit its highest level against t...</td>\n",
       "    </tr>\n",
       "    <tr>\n",
       "      <th>2</th>\n",
       "      <td>business</td>\n",
       "      <td>Yukos unit buyer faces loan claim\\n\\nThe owner...</td>\n",
       "      <td>Yukos' owner Menatep Group says it will ask Ro...</td>\n",
       "    </tr>\n",
       "    <tr>\n",
       "      <th>3</th>\n",
       "      <td>business</td>\n",
       "      <td>High fuel prices hit BA's profits\\n\\nBritish A...</td>\n",
       "      <td>Rod Eddington, BA's chief executive, said the ...</td>\n",
       "    </tr>\n",
       "    <tr>\n",
       "      <th>4</th>\n",
       "      <td>business</td>\n",
       "      <td>Pernod takeover talk lifts Domecq\\n\\nShares in...</td>\n",
       "      <td>Pernod has reduced the debt it took on to fund...</td>\n",
       "    </tr>\n",
       "  </tbody>\n",
       "</table>\n",
       "</div>"
      ],
      "text/plain": [
       "   category                                            article  \\\n",
       "0  business  Ad sales boost Time Warner profit\\n\\nQuarterly...   \n",
       "1  business  Dollar gains on Greenspan speech\\n\\nThe dollar...   \n",
       "2  business  Yukos unit buyer faces loan claim\\n\\nThe owner...   \n",
       "3  business  High fuel prices hit BA's profits\\n\\nBritish A...   \n",
       "4  business  Pernod takeover talk lifts Domecq\\n\\nShares in...   \n",
       "\n",
       "                                             summary  \n",
       "0  TimeWarner said fourth quarter sales rose 2% t...  \n",
       "1  The dollar has hit its highest level against t...  \n",
       "2  Yukos' owner Menatep Group says it will ask Ro...  \n",
       "3  Rod Eddington, BA's chief executive, said the ...  \n",
       "4  Pernod has reduced the debt it took on to fund...  "
      ]
     },
     "execution_count": 131,
     "metadata": {},
     "output_type": "execute_result"
    }
   ],
   "source": [
    "dframe.head()"
   ]
  },
  {
   "cell_type": "code",
   "execution_count": 132,
   "id": "237d3da5-ff4a-442f-b345-0280ab9b873b",
   "metadata": {},
   "outputs": [],
   "source": [
    "def process_strings(string):\n",
    "    string = string.replace(\"\\n\\n\", \" \")\n",
    "    string = string.replace(\"\\n\", \"\")\n",
    "    if isinstance(string, bytes):\n",
    "        string = string.decode(\"utf-8\", \"ignore\")\n",
    "    string = unicodedata.normalize(\"NFKD\", string).encode(\"ascii\", \"ignore\").decode(\"utf-8\")\n",
    "    string = re.sub(r'[\\\\/*^~@#<>|]', \"\", string)\n",
    "    return string.strip()"
   ]
  },
  {
   "cell_type": "code",
   "execution_count": 133,
   "id": "f74f9b07-6a09-4904-b5c8-f4e28ae8655a",
   "metadata": {},
   "outputs": [],
   "source": [
    "dframe = dframe.applymap(process_strings)"
   ]
  },
  {
   "cell_type": "code",
   "execution_count": 134,
   "id": "d5fc78aa-faff-47e1-bfb6-ccb4091502e0",
   "metadata": {},
   "outputs": [
    {
     "data": {
      "text/html": [
       "<div>\n",
       "<style scoped>\n",
       "    .dataframe tbody tr th:only-of-type {\n",
       "        vertical-align: middle;\n",
       "    }\n",
       "\n",
       "    .dataframe tbody tr th {\n",
       "        vertical-align: top;\n",
       "    }\n",
       "\n",
       "    .dataframe thead th {\n",
       "        text-align: right;\n",
       "    }\n",
       "</style>\n",
       "<table border=\"1\" class=\"dataframe\">\n",
       "  <thead>\n",
       "    <tr style=\"text-align: right;\">\n",
       "      <th></th>\n",
       "      <th>category</th>\n",
       "      <th>article</th>\n",
       "      <th>summary</th>\n",
       "    </tr>\n",
       "  </thead>\n",
       "  <tbody>\n",
       "    <tr>\n",
       "      <th>0</th>\n",
       "      <td>business</td>\n",
       "      <td>Ad sales boost Time Warner profit Quarterly pr...</td>\n",
       "      <td>TimeWarner said fourth quarter sales rose 2% t...</td>\n",
       "    </tr>\n",
       "    <tr>\n",
       "      <th>1</th>\n",
       "      <td>business</td>\n",
       "      <td>Dollar gains on Greenspan speech The dollar ha...</td>\n",
       "      <td>The dollar has hit its highest level against t...</td>\n",
       "    </tr>\n",
       "    <tr>\n",
       "      <th>2</th>\n",
       "      <td>business</td>\n",
       "      <td>Yukos unit buyer faces loan claim The owners o...</td>\n",
       "      <td>Yukos' owner Menatep Group says it will ask Ro...</td>\n",
       "    </tr>\n",
       "    <tr>\n",
       "      <th>3</th>\n",
       "      <td>business</td>\n",
       "      <td>High fuel prices hit BA's profits British Airw...</td>\n",
       "      <td>Rod Eddington, BA's chief executive, said the ...</td>\n",
       "    </tr>\n",
       "    <tr>\n",
       "      <th>4</th>\n",
       "      <td>business</td>\n",
       "      <td>Pernod takeover talk lifts Domecq Shares in UK...</td>\n",
       "      <td>Pernod has reduced the debt it took on to fund...</td>\n",
       "    </tr>\n",
       "  </tbody>\n",
       "</table>\n",
       "</div>"
      ],
      "text/plain": [
       "   category                                            article  \\\n",
       "0  business  Ad sales boost Time Warner profit Quarterly pr...   \n",
       "1  business  Dollar gains on Greenspan speech The dollar ha...   \n",
       "2  business  Yukos unit buyer faces loan claim The owners o...   \n",
       "3  business  High fuel prices hit BA's profits British Airw...   \n",
       "4  business  Pernod takeover talk lifts Domecq Shares in UK...   \n",
       "\n",
       "                                             summary  \n",
       "0  TimeWarner said fourth quarter sales rose 2% t...  \n",
       "1  The dollar has hit its highest level against t...  \n",
       "2  Yukos' owner Menatep Group says it will ask Ro...  \n",
       "3  Rod Eddington, BA's chief executive, said the ...  \n",
       "4  Pernod has reduced the debt it took on to fund...  "
      ]
     },
     "execution_count": 134,
     "metadata": {},
     "output_type": "execute_result"
    }
   ],
   "source": [
    "dframe.head()"
   ]
  },
  {
   "cell_type": "code",
   "execution_count": 135,
   "id": "37b4f11c-c96a-470c-8d66-ad60c238bc9c",
   "metadata": {},
   "outputs": [
    {
     "data": {
      "text/plain": [
       "'Ad sales boost Time Warner profit Quarterly profits at US media giant TimeWarner jumped 76% to $1.13bn (A600m) for the three months to December, from $639m year-earlier. The firm, which is now one of the biggest investors in Google, benefited from sales of high-speed internet connections and higher advert sales. TimeWarner said fourth quarter sales rose 2% to $11.1bn from $10.9bn. Its profits were buoyed by one-off gains which offset a profit dip at Warner Bros, and less users for AOL. Time Warner said on Friday that it now owns 8% of search-engine Google. But its own internet business, AOL, had has mixed fortunes. It lost 464,000 subscribers in the fourth quarter profits were lower than in the preceding three quarters. However, the company said AOL\\'s underlying profit before exceptional items rose 8% on the back of stronger internet advertising revenues. It hopes to increase subscribers by offering the online service free to TimeWarner internet customers and will try to sign up AOL\\'s existing customers for high-speed broadband. TimeWarner also has to restate 2000 and 2003 results following a probe by the US Securities Exchange Commission (SEC), which is close to concluding. Time Warner\\'s fourth quarter profits were slightly better than analysts\\' expectations. But its film division saw profits slump 27% to $284m, helped by box-office flops Alexander and Catwoman, a sharp contrast to year-earlier, when the third and final film in the Lord of the Rings trilogy boosted results. For the full-year, TimeWarner posted a profit of $3.36bn, up 27% from its 2003 performance, while revenues grew 6.4% to $42.09bn. \"Our financial performance was strong, meeting or exceeding all of our full-year objectives and greatly enhancing our flexibility,\" chairman and chief executive Richard Parsons said. For 2005, TimeWarner is projecting operating earnings growth of around 5%, and also expects higher revenue and wider profit margins. TimeWarner is to restate its accounts as part of efforts to resolve an inquiry into AOL by US market regulators. It has already offered to pay $300m to settle charges, in a deal that is under review by the SEC. The company said it was unable to estimate the amount it needed to set aside for legal reserves, which it previously set at $500m. It intends to adjust the way it accounts for a deal with German music publisher Bertelsmann\\'s purchase of a stake in AOL Europe, which it had reported as advertising revenue. It will now book the sale of its stake in AOL Europe as a loss on the value of that stake.'"
      ]
     },
     "execution_count": 135,
     "metadata": {},
     "output_type": "execute_result"
    }
   ],
   "source": [
    "dframe.loc[0, \"article\"]"
   ]
  },
  {
   "cell_type": "code",
   "execution_count": 136,
   "id": "c74245bf-a1e3-4eaf-b622-867892f354fd",
   "metadata": {},
   "outputs": [],
   "source": [
    "dframe.to_csv(\"article_summary.csv\", index=False)"
   ]
  },
  {
   "cell_type": "code",
   "execution_count": null,
   "id": "849eb420-0a2a-432b-bd97-345738a09aaa",
   "metadata": {},
   "outputs": [],
   "source": []
  }
 ],
 "metadata": {
  "kernelspec": {
   "display_name": "Python 3 (ipykernel)",
   "language": "python",
   "name": "python3"
  },
  "language_info": {
   "codemirror_mode": {
    "name": "ipython",
    "version": 3
   },
   "file_extension": ".py",
   "mimetype": "text/x-python",
   "name": "python",
   "nbconvert_exporter": "python",
   "pygments_lexer": "ipython3",
   "version": "3.9.1"
  }
 },
 "nbformat": 4,
 "nbformat_minor": 5
}
