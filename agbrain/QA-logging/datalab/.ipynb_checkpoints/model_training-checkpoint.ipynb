{
 "cells": [
  {
   "cell_type": "code",
   "execution_count": 1,
   "id": "924717cd-34fd-4266-95b4-390aac93fb60",
   "metadata": {},
   "outputs": [],
   "source": [
    "import numpy as np\n",
    "import tensorflow as tf\n",
    "from transformers import AutoTokenizer, AutoModel"
   ]
  },
  {
   "cell_type": "code",
   "execution_count": 2,
   "id": "5735af5e-6aed-4ce6-8a39-d011b0a21f37",
   "metadata": {},
   "outputs": [],
   "source": [
    "import pandas as pd"
   ]
  },
  {
   "cell_type": "code",
   "execution_count": 19,
   "id": "234ed832-54b5-48d1-b87c-91b08af9c841",
   "metadata": {},
   "outputs": [],
   "source": [
    "import tensorflow_text as text\n",
    "import tensorflow_hub as hub"
   ]
  },
  {
   "cell_type": "code",
   "execution_count": 3,
   "id": "ee6a2a46-1da6-43e3-bba9-1ffcd93759df",
   "metadata": {},
   "outputs": [],
   "source": [
    "dataset = pd.read_csv(\"article_summary.csv\")"
   ]
  },
  {
   "cell_type": "code",
   "execution_count": 6,
   "id": "c46665cd-1e51-4865-8887-6aa1883e9497",
   "metadata": {},
   "outputs": [],
   "source": [
    "dataset = dataset.filter(items=[\"article\", \"summary\"])"
   ]
  },
  {
   "cell_type": "code",
   "execution_count": 13,
   "id": "1553135c-796e-4c7f-8e26-3a9623b8a2d6",
   "metadata": {},
   "outputs": [],
   "source": [
    "test_split = 0.2\n",
    "test_samples = int(dataset.shape[0] * test_split)\n",
    "train_df = dataset[:-train_samples]\n",
    "test_df = dataset[-train_samples:]"
   ]
  },
  {
   "cell_type": "code",
   "execution_count": 16,
   "id": "8c1dff8e-8632-4898-8cfd-86fab32a9fb5",
   "metadata": {},
   "outputs": [
    {
     "data": {
      "text/plain": [
       "'Train samples: 1780 Test samples: 445'"
      ]
     },
     "execution_count": 16,
     "metadata": {},
     "output_type": "execute_result"
    }
   ],
   "source": [
    "\"Train samples: {} Test samples: {}\".format(train_df.shape[0], test_df.shape[0])"
   ]
  },
  {
   "cell_type": "code",
   "execution_count": null,
   "id": "6b08f069-6f9d-4b50-a6b3-8179189774e4",
   "metadata": {},
   "outputs": [],
   "source": []
  }
 ],
 "metadata": {
  "kernelspec": {
   "display_name": "Python 3 (ipykernel)",
   "language": "python",
   "name": "python3"
  },
  "language_info": {
   "codemirror_mode": {
    "name": "ipython",
    "version": 3
   },
   "file_extension": ".py",
   "mimetype": "text/x-python",
   "name": "python",
   "nbconvert_exporter": "python",
   "pygments_lexer": "ipython3",
   "version": "3.9.1"
  }
 },
 "nbformat": 4,
 "nbformat_minor": 5
}
